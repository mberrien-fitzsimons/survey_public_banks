{
 "cells": [
  {
   "cell_type": "markdown",
   "metadata": {},
   "source": [
    "### Bank Statistics: Analysis of EPS and PE Ratio"
   ]
  },
  {
   "cell_type": "code",
   "execution_count": 1,
   "metadata": {},
   "outputs": [],
   "source": [
    "# import packages \n",
    "import matplotlib.pyplot as plt\n",
    "import math\n",
    "import numpy as np\n",
    "import os\n",
    "import pandas as pd\n",
    "import requests\n",
    "import seaborn as sns\n",
    "import sys\n",
    "\n",
    "from scipy import stats "
   ]
  },
  {
   "cell_type": "code",
   "execution_count": 2,
   "metadata": {},
   "outputs": [],
   "source": [
    "bank_stats = pd.read_csv('../data/01_raw/all_stocks_stats.csv', index_col='ticker')"
   ]
  },
  {
   "cell_type": "code",
   "execution_count": 3,
   "metadata": {},
   "outputs": [
    {
     "data": {
      "text/plain": [
       "Index(['avg10Volume', 'avg30Volume', 'beta', 'companyName', 'day200MovingAvg',\n",
       "       'day30ChangePercent', 'day50MovingAvg', 'day5ChangePercent',\n",
       "       'dividendYield', 'employees', 'exDividendDate', 'float', 'marketcap',\n",
       "       'maxChangePercent', 'month1ChangePercent', 'month3ChangePercent',\n",
       "       'month6ChangePercent', 'nextDividendDate', 'nextEarningsDate',\n",
       "       'peRatio', 'sharesOutstanding', 'ttmDividendRate', 'ttmEPS',\n",
       "       'week52change', 'week52high', 'week52low', 'year1ChangePercent',\n",
       "       'year2ChangePercent', 'year5ChangePercent', 'ytdChangePercent'],\n",
       "      dtype='object')"
      ]
     },
     "execution_count": 3,
     "metadata": {},
     "output_type": "execute_result"
    }
   ],
   "source": [
    "bank_stats.columns"
   ]
  },
  {
   "cell_type": "markdown",
   "metadata": {},
   "source": [
    "##### Look at EPS Distribution"
   ]
  },
  {
   "cell_type": "code",
   "execution_count": 4,
   "metadata": {},
   "outputs": [
    {
     "data": {
      "image/png": "[encoded data removed]",
      "text/plain": [
       "<Figure size 432x288 with 1 Axes>"
      ]
     },
     "metadata": {
      "needs_background": "light"
     },
     "output_type": "display_data"
    }
   ],
   "source": [
    "bank_stats.ttmEPS.hist()\n",
    "plt.show()"
   ]
  },
  {
   "cell_type": "code",
   "execution_count": 5,
   "metadata": {},
   "outputs": [],
   "source": [
    "bank_stats.dropna(subset=['ttmEPS'], inplace=True)"
   ]
  },
  {
   "cell_type": "code",
   "execution_count": 6,
   "metadata": {},
   "outputs": [
    {
     "data": {
      "image/png": "[encoded data removed]",
      "text/plain": [
       "<Figure size 432x288 with 1 Axes>"
      ]
     },
     "metadata": {
      "needs_background": "light"
     },
     "output_type": "display_data"
    }
   ],
   "source": [
    "plt.figure()\n",
    "plt.boxplot(bank_stats.ttmEPS)\n",
    "plt.show()"
   ]
  },
  {
   "cell_type": "code",
   "execution_count": null,
   "metadata": {
    "scrolled": true
   },
   "outputs": [],
   "source": [
    "# outlier data points \n",
    "bank_stats.loc[(bank_stats['ttmEPS'] < 0) | (bank_stats['ttmEPS'] > 8)]"
   ]
  },
  {
   "cell_type": "code",
   "execution_count": null,
   "metadata": {},
   "outputs": [],
   "source": [
    "# mean ttemp value across 51 banks\n",
    "bank_stats.ttmEPS.mean() # should we be including the banks we are testing in the population number? "
   ]
  },
  {
   "cell_type": "markdown",
   "metadata": {},
   "source": [
    "### 1. Question: Are the Earnings per share (EPS) significantly larger for the 6 outlier banks than the entire population"
   ]
  },
  {
   "cell_type": "markdown",
   "metadata": {},
   "source": [
    "$\\textbf{Hypothesis:}$\n",
    "\n",
    "$$H_{0}: \\mu = \\bar{X}$$\n",
    "$$H_{a}: \\mu \\neq \\bar{X}$$\n",
    "\n",
    "<font color='red'>Note: This may not be a meaningful test. Can you test one data point against an entire population?</font> "
   ]
  },
  {
   "cell_type": "markdown",
   "metadata": {},
   "source": [
    "1) Set up null and alternative hypotheses\n",
    "\n",
    "2) Choose a significance level\n",
    "\n",
    "3) Calculate the test statistic\n",
    "\n",
    "4) Determine the critical or p-value (find the rejection region)\n",
    "\n",
    "5) Compare t-value with critical t-value to accept or reject the Null hypothesis."
   ]
  },
  {
   "cell_type": "markdown",
   "metadata": {},
   "source": [
    "### 2. Question: Are Earnings per share (EPS) significantly different for high vs low beta banks?  "
   ]
  },
  {
   "cell_type": "code",
   "execution_count": null,
   "metadata": {},
   "outputs": [],
   "source": [
    "# split the banks up into high and low beta value institutions\n",
    "banks_highb = bank_stats.loc[bank_stats['beta'] >= 1]\n",
    "banks_lowb = bank_stats.loc[bank_stats['beta'] < 1]"
   ]
  },
  {
   "cell_type": "markdown",
   "metadata": {},
   "source": [
    "* **The population mean ($\\mu$).** Given as 100 (from past data).\n",
    "* **The sample mean ($\\bar{x}$).** Calculate from the sample data\n",
    "* **The sample standard deviation ($s$).** Calculate from sample data\n",
    "* **Number of observations($n$).** 25 as given in the question. This can also be calculated from the sample data.\n",
    "* **Degrees of Freedom($df$).** Calculate from the sample as df = total no. of observations - 1"
   ]
  },
  {
   "cell_type": "code",
   "execution_count": null,
   "metadata": {},
   "outputs": [],
   "source": [
    "# High Beta Samples vs population\n",
    "# population mean \n",
    "mu = bank_stats.ttmEPS.mean()\n",
    "\n",
    "# Sample mean (x̄) using NumPy mean()\n",
    "x_bar = banks_highb.ttmEPS.mean()\n",
    "\n",
    "# Sample Stadrad Deviation (sigma) using Numpy\n",
    "sigma = np.std(banks_highb.ttmEPS, ddof=9) # how many degrees of freedom should I use? \n",
    "\n",
    "# Sample size (n)\n",
    "n = len(banks_highb.ttmEPS)\n",
    "\n",
    "# Degrees of Freedom\n",
    "df = n-1\n",
    "\n",
    "# Difference in sample mean \n",
    "diff = x_bar - mu\n",
    "\n",
    "# Print the findings\n",
    "print ('The sample contains', n, 'observations, having a mean of', x_bar, \"and a standard deviation (sigma) = \", sigma, \n",
    "       \", with\", df, 'degrees of freedom. The difference between sample and population means is:', diff)\n"
   ]
  },
  {
   "cell_type": "code",
   "execution_count": null,
   "metadata": {},
   "outputs": [],
   "source": [
    "sns.set(color_codes=True)\n",
    "sns.set(rc={'figure.figsize':(12,10)})\n",
    "sns.distplot(banks_highb.ttmEPS)"
   ]
  },
  {
   "cell_type": "markdown",
   "metadata": {},
   "source": [
    "$H_{0}$: The null hypothesis is that there is no difference between the earnings per share:\n",
    "\n",
    "> $$H_{0}: \\mu = \\bar{X}_{high \\beta}$$"
   ]
  },
  {
   "cell_type": "markdown",
   "metadata": {},
   "source": [
    "$H_{1}$: The alternative hypothesis is that there is a change i.e. The high beta banks are differnt from the population.\n",
    "\n",
    "> $$H_{a}: \\mu \\neq \\bar{X}_{high \\beta}$$"
   ]
  },
  {
   "cell_type": "code",
   "execution_count": null,
   "metadata": {},
   "outputs": [],
   "source": [
    "# Calculate the t-statistic\n",
    "t = (x_bar -  mu)/(sigma/np.sqrt(n))\n",
    "t"
   ]
  },
  {
   "cell_type": "code",
   "execution_count": null,
   "metadata": {},
   "outputs": [],
   "source": [
    "# Low Beta Samples vs Population \n",
    "# population mean \n",
    "mu = bank_stats.ttmEPS.mean()\n",
    "\n",
    "# Sample mean (x̄) using NumPy mean()\n",
    "x_bar = banks_lowb.ttmEPS.mean()\n",
    "\n",
    "# Sample Stadrad Deviation (sigma) using Numpy\n",
    "sigma = np.std(banks_lowb.ttmEPS, ddof=39) # how many degrees of freedom should I use? \n",
    "\n",
    "# Sample size (n)\n",
    "n = len(banks_lowb.ttmEPS)\n",
    "\n",
    "# Degrees of Freedom\n",
    "df = n-1\n",
    "\n",
    "# Difference in sample mean \n",
    "diff = x_bar - mu\n",
    "\n",
    "# Print the findings\n",
    "print ('The sample contains', n, 'observations, having a mean of', x_bar, \"and a standard deviation (sigma) = \", sigma, \n",
    "       \", with\", df, 'degrees of freedom. The difference between sample and population means is:', diff)"
   ]
  },
  {
   "cell_type": "code",
   "execution_count": null,
   "metadata": {},
   "outputs": [],
   "source": [
    "sns.set(color_codes=True)\n",
    "sns.set(rc={'figure.figsize':(12,10)})\n",
    "sns.distplot(banks_lowb.ttmEPS)"
   ]
  },
  {
   "cell_type": "markdown",
   "metadata": {},
   "source": [
    "1) Set up null and alternative hypotheses"
   ]
  },
  {
   "cell_type": "markdown",
   "metadata": {},
   "source": [
    "$$H_{0}: \\mu = \\bar{X}_{high \\beta}$$\n",
    "$$H_{a}: \\mu \\neq \\bar{X}_{high \\beta}$$\n",
    "\n",
    "$$and$$\n",
    "\n",
    "$$H_{0}: \\mu = \\bar{X}_{low \\beta}$$\n",
    "$$H_{a}: \\mu \\neq \\bar{X}_{low \\beta}$$"
   ]
  },
  {
   "cell_type": "markdown",
   "metadata": {},
   "source": [
    "2) Choose a significance level"
   ]
  },
  {
   "cell_type": "markdown",
   "metadata": {},
   "source": [
    "3) Calculate the test statistic"
   ]
  },
  {
   "cell_type": "markdown",
   "metadata": {},
   "source": [
    "4) Determine the critical or p-value (find the rejection region)"
   ]
  },
  {
   "cell_type": "markdown",
   "metadata": {},
   "source": [
    "5) Compare t-value with critical t-value to accept or reject the Null hypothesis."
   ]
  }
 ],
 "metadata": {
  "kernelspec": {
   "display_name": "Python 3",
   "language": "python",
   "name": "python3"
  },
  "language_info": {
   "codemirror_mode": {
    "name": "ipython",
    "version": 3
   },
   "file_extension": ".py",
   "mimetype": "text/x-python",
   "name": "python",
   "nbconvert_exporter": "python",
   "pygments_lexer": "ipython3",
   "version": "3.7.1"
  }
 },
 "nbformat": 4,
 "nbformat_minor": 2
}
