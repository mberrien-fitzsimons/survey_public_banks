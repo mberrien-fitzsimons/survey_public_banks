{
 "cells": [
  {
   "cell_type": "markdown",
   "metadata": {},
   "source": [
    "## Daily Adjusted Stock Prices: 52 Tradable Banks - Contatenate Dataset"
   ]
  },
  {
   "cell_type": "markdown",
   "metadata": {},
   "source": [
    "##### Source: https://www.alphavantage.co/"
   ]
  },
  {
   "cell_type": "code",
   "execution_count": 126,
   "metadata": {},
   "outputs": [],
   "source": [
    "import os\n",
    "import sys\n",
    "import pandas as pd\n",
    "import glob\n",
    "\n",
    "from iexfinance.stocks import Stock \n",
    "from iexfinance.refdata import get_symbols\n",
    "\n",
    "conf_dir = os.path.join(os.getcwd(), '..', 'conf')\n",
    "sys.path.append(conf_dir)\n",
    "\n",
    "from local import Secrets"
   ]
  },
  {
   "cell_type": "markdown",
   "metadata": {},
   "source": [
    "##### Read in Datasets"
   ]
  },
  {
   "cell_type": "code",
   "execution_count": 127,
   "metadata": {},
   "outputs": [],
   "source": [
    "# List of banks\n",
    "public_banks_df = pd.read_csv('../references/banks_tickers.txt', sep='\\t',  skiprows = 1, names = ['Index', 'Name', 'Ticker'])\n",
    "public_banks_df.head()"
   ]
  },
  {
   "cell_type": "code",
   "execution_count": 128,
   "metadata": {},
   "outputs": [],
   "source": [
    "path = r'../data/01_raw/' # use your path\n",
    "filenames = glob.glob(path + \"/*.csv\")\n",
    "file = pd.DataFrame(filenames)\n",
    "filenames = list(file.sort_values(0)[0])\n",
    "\n",
    "# li = []\n",
    "# for filename in filenames:\n",
    "#     df = pd.read_csv(filename, index_col=None, header=0)\n",
    "#     li.append(filename)"
   ]
  },
  {
   "cell_type": "code",
   "execution_count": 129,
   "metadata": {},
   "outputs": [],
   "source": [
    "ticker_abbr = public_banks_df['Ticker']\n",
    "ticker = pd.DataFrame(ticker_abbr)\n",
    "ticker = ticker.sort_values(by='Ticker')\n",
    "ticker_abbr = ticker['Ticker']"
   ]
  },
  {
   "cell_type": "code",
   "execution_count": 133,
   "metadata": {
    "scrolled": true
   },
   "outputs": [
    {
     "name": "stdout",
     "output_type": "stream",
     "text": [
      "ALLY ../data/01_raw/ally_stock.csv\n",
      "ASB ../data/01_raw/asb_stock.csv\n",
      "AX ../data/01_raw/ax_stock.csv\n",
      "BAC ../data/01_raw/bac_stock.csv\n",
      "BANC ../data/01_raw/banc_stock.csv\n",
      "BBT ../data/01_raw/bbt_stock.csv\n",
      "BHLB ../data/01_raw/bhlb_stock.csv\n",
      "BK ../data/01_raw/bk_stock.csv\n",
      "BKU ../data/01_raw/bku_stock.csv\n",
      "BOH ../data/01_raw/boh_stock.csv\n",
      "BXS ../data/01_raw/bxs_stock.csv\n",
      "BY ../data/01_raw/by_stock.csv\n",
      "C ../data/01_raw/c_stock.csv\n",
      "CADE ../data/01_raw/cade_stock.csv\n",
      "CBU ../data/01_raw/cbu_stock.csv\n",
      "CFG ../data/01_raw/cfg_stock.csv\n",
      "CFR ../data/01_raw/cfr_stock.csv\n",
      "CIT ../data/01_raw/cit_stock.csv\n",
      "CMA ../data/01_raw/cma_stock.csv\n",
      "COF ../data/01_raw/cof_stock.csv\n",
      "CPF ../data/01_raw/cpf_stock.csv\n",
      "CUBI ../data/01_raw/cubi_stock.csv\n",
      "FBC ../data/01_raw/fbc_stock.csv\n",
      "FBK ../data/01_raw/fbk_stock.csv\n",
      "FCB ../data/01_raw/fcb_stock.csv\n",
      "FCF ../data/01_raw/fcf_stock.csv\n",
      "FHN ../data/01_raw/fhn_stock.csv\n",
      "FNB ../data/01_raw/fnb_stock.csv\n",
      "FSB ../data/01_raw/fsb_stock.csv\n",
      "GWB ../data/01_raw/gwb_stock.csv\n",
      "HTH ../data/01_raw/hth_stock.csv\n",
      "JPM ../data/01_raw/jpm_stock.csv\n",
      "KEY ../data/01_raw/key_stock.csv\n",
      "MFCB ../data/01_raw/mfcb_stock.csv\n",
      "MSL ../data/01_raw/msl_stock.csv\n",
      "MTB ../data/01_raw/mtb_stock.csv\n",
      "NBHC ../data/01_raw/nbhc_stock.csv\n",
      "NYCB ../data/01_raw/nycb_stock.csv\n",
      "PB ../data/01_raw/pb_stock.csv\n",
      "PFS ../data/01_raw/pfs_stock.csv\n",
      "PNC ../data/01_raw/pnc_stock.csv\n",
      "RF ../data/01_raw/rf_stock.csv\n",
      "SNV ../data/01_raw/snv_stock.csv\n",
      "STI ../data/01_raw/sti_stock.csv\n",
      "STL ../data/01_raw/stl_stock.csv\n",
      "STT ../data/01_raw/stt_stock.csv\n",
      "TCF ../data/01_raw/tcf_stock.csv\n",
      "USB ../data/01_raw/usv_stock.csv\n",
      "WAL ../data/01_raw/wal_stock.csv\n",
      "WBS ../data/01_raw/wbs_stock.csv\n",
      "WFC ../data/01_raw/wfc_stock.csv\n",
      "ZBK ../data/01_raw/zbk_stock.csv\n"
     ]
    }
   ],
   "source": [
    "for abbr, filename in zip(ticker_abbr, filenames): \n",
    "    print(abbr, filename)\n",
    "   # exec() = pd.read_csv(li[i], index_col=None, header=0)"
   ]
  },
  {
   "cell_type": "code",
   "execution_count": null,
   "metadata": {},
   "outputs": [],
   "source": [
    "for f, b in zip(foo, bar):\n",
    "    print(f, b)"
   ]
  },
  {
   "cell_type": "code",
   "execution_count": null,
   "metadata": {},
   "outputs": [],
   "source": [
    "# create list of ticker abbreviations for tradable banks\n",
    "ticker_abbr = public_banks_df['Ticker']"
   ]
  }
 ],
 "metadata": {
  "kernelspec": {
   "display_name": "Python 3",
   "language": "python",
   "name": "python3"
  },
  "language_info": {
   "codemirror_mode": {
    "name": "ipython",
    "version": 3
   },
   "file_extension": ".py",
   "mimetype": "text/x-python",
   "name": "python",
   "nbconvert_exporter": "python",
   "pygments_lexer": "ipython3",
   "version": "3.7.1"
  }
 },
 "nbformat": 4,
 "nbformat_minor": 2
}
