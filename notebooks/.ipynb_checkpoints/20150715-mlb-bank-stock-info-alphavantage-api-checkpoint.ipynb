{
 "cells": [
  {
   "cell_type": "markdown",
   "metadata": {},
   "source": [
    "## Daily Adjusted Stock Prices: 52 Tradable Banks"
   ]
  },
  {
   "cell_type": "markdown",
   "metadata": {},
   "source": [
    "##### Source: https://www.alphavantage.co/"
   ]
  },
  {
   "cell_type": "code",
   "execution_count": 1,
   "metadata": {},
   "outputs": [],
   "source": [
    "import os\n",
    "import sys\n",
    "import pandas as pd\n",
    "import time\n",
    "\n",
    "from iexfinance.stocks import Stock \n",
    "from iexfinance.refdata import get_symbols\n",
    "\n",
    "conf_dir = os.path.join(os.getcwd(), '..', 'conf')\n",
    "sys.path.append(conf_dir)\n",
    "\n",
    "from local import Secrets"
   ]
  },
  {
   "cell_type": "code",
   "execution_count": 4,
   "metadata": {},
   "outputs": [
    {
     "data": {
      "text/html": [
       "<div>\n",
       "<style scoped>\n",
       "    .dataframe tbody tr th:only-of-type {\n",
       "        vertical-align: middle;\n",
       "    }\n",
       "\n",
       "    .dataframe tbody tr th {\n",
       "        vertical-align: top;\n",
       "    }\n",
       "\n",
       "    .dataframe thead th {\n",
       "        text-align: right;\n",
       "    }\n",
       "</style>\n",
       "<table border=\"1\" class=\"dataframe\">\n",
       "  <thead>\n",
       "    <tr style=\"text-align: right;\">\n",
       "      <th></th>\n",
       "      <th>Index</th>\n",
       "      <th>Name</th>\n",
       "      <th>Ticker</th>\n",
       "    </tr>\n",
       "  </thead>\n",
       "  <tbody>\n",
       "    <tr>\n",
       "      <th>0</th>\n",
       "      <td>1</td>\n",
       "      <td>Ally Financial Inc.</td>\n",
       "      <td>ALLY</td>\n",
       "    </tr>\n",
       "    <tr>\n",
       "      <th>1</th>\n",
       "      <td>2</td>\n",
       "      <td>Associated Banc-Corp</td>\n",
       "      <td>ASB</td>\n",
       "    </tr>\n",
       "    <tr>\n",
       "      <th>2</th>\n",
       "      <td>3</td>\n",
       "      <td>Axos Financial, Inc.</td>\n",
       "      <td>AX</td>\n",
       "    </tr>\n",
       "    <tr>\n",
       "      <th>3</th>\n",
       "      <td>4</td>\n",
       "      <td>Banc of California, Inc.</td>\n",
       "      <td>BANC</td>\n",
       "    </tr>\n",
       "    <tr>\n",
       "      <th>4</th>\n",
       "      <td>5</td>\n",
       "      <td>BancorpSouth Bank</td>\n",
       "      <td>BXS</td>\n",
       "    </tr>\n",
       "    <tr>\n",
       "      <th>5</th>\n",
       "      <td>6</td>\n",
       "      <td>Bank of America Corporation</td>\n",
       "      <td>BAC</td>\n",
       "    </tr>\n",
       "    <tr>\n",
       "      <th>6</th>\n",
       "      <td>7</td>\n",
       "      <td>Bank of Hawaii Corporation</td>\n",
       "      <td>BOH</td>\n",
       "    </tr>\n",
       "    <tr>\n",
       "      <th>7</th>\n",
       "      <td>8</td>\n",
       "      <td>Bank Of New York Mellon Corporation (The)</td>\n",
       "      <td>BK</td>\n",
       "    </tr>\n",
       "    <tr>\n",
       "      <th>8</th>\n",
       "      <td>9</td>\n",
       "      <td>BankUnited, Inc.</td>\n",
       "      <td>BKU</td>\n",
       "    </tr>\n",
       "    <tr>\n",
       "      <th>9</th>\n",
       "      <td>10</td>\n",
       "      <td>BB&amp;T Corporation</td>\n",
       "      <td>BBT</td>\n",
       "    </tr>\n",
       "    <tr>\n",
       "      <th>10</th>\n",
       "      <td>11</td>\n",
       "      <td>Berkshire Hills Bancorp, Inc.</td>\n",
       "      <td>BHLB</td>\n",
       "    </tr>\n",
       "    <tr>\n",
       "      <th>11</th>\n",
       "      <td>12</td>\n",
       "      <td>Byline Bancorp, Inc.</td>\n",
       "      <td>BY</td>\n",
       "    </tr>\n",
       "    <tr>\n",
       "      <th>12</th>\n",
       "      <td>13</td>\n",
       "      <td>Cadence Bancorporation</td>\n",
       "      <td>CADE</td>\n",
       "    </tr>\n",
       "    <tr>\n",
       "      <th>13</th>\n",
       "      <td>14</td>\n",
       "      <td>Capital One Financial Corporation</td>\n",
       "      <td>COF</td>\n",
       "    </tr>\n",
       "    <tr>\n",
       "      <th>14</th>\n",
       "      <td>15</td>\n",
       "      <td>CIT Group Inc (DEL)</td>\n",
       "      <td>CIT</td>\n",
       "    </tr>\n",
       "    <tr>\n",
       "      <th>15</th>\n",
       "      <td>16</td>\n",
       "      <td>Citigroup Inc.</td>\n",
       "      <td>C</td>\n",
       "    </tr>\n",
       "    <tr>\n",
       "      <th>16</th>\n",
       "      <td>17</td>\n",
       "      <td>Citizens Financial Group, Inc.</td>\n",
       "      <td>CFG</td>\n",
       "    </tr>\n",
       "    <tr>\n",
       "      <th>17</th>\n",
       "      <td>18</td>\n",
       "      <td>Comerica Incorporated</td>\n",
       "      <td>CMA</td>\n",
       "    </tr>\n",
       "    <tr>\n",
       "      <th>18</th>\n",
       "      <td>19</td>\n",
       "      <td>Community Bank System, Inc.</td>\n",
       "      <td>CBU</td>\n",
       "    </tr>\n",
       "    <tr>\n",
       "      <th>19</th>\n",
       "      <td>20</td>\n",
       "      <td>CPB Inc.</td>\n",
       "      <td>CPF</td>\n",
       "    </tr>\n",
       "  </tbody>\n",
       "</table>\n",
       "</div>"
      ],
      "text/plain": [
       "    Index                                       Name Ticker\n",
       "0       1                        Ally Financial Inc.   ALLY\n",
       "1       2                       Associated Banc-Corp    ASB\n",
       "2       3                       Axos Financial, Inc.     AX\n",
       "3       4                   Banc of California, Inc.   BANC\n",
       "4       5                          BancorpSouth Bank    BXS\n",
       "5       6                Bank of America Corporation    BAC\n",
       "6       7                 Bank of Hawaii Corporation    BOH\n",
       "7       8  Bank Of New York Mellon Corporation (The)     BK\n",
       "8       9                           BankUnited, Inc.    BKU\n",
       "9      10                           BB&T Corporation    BBT\n",
       "10     11              Berkshire Hills Bancorp, Inc.   BHLB\n",
       "11     12                       Byline Bancorp, Inc.     BY\n",
       "12     13                     Cadence Bancorporation   CADE\n",
       "13     14          Capital One Financial Corporation    COF\n",
       "14     15                        CIT Group Inc (DEL)    CIT\n",
       "15     16                             Citigroup Inc.      C\n",
       "16     17             Citizens Financial Group, Inc.    CFG\n",
       "17     18                      Comerica Incorporated    CMA\n",
       "18     19                Community Bank System, Inc.    CBU\n",
       "19     20                                   CPB Inc.    CPF"
      ]
     },
     "execution_count": 4,
     "metadata": {},
     "output_type": "execute_result"
    }
   ],
   "source": [
    "# List of banks\n",
    "public_banks_df = pd.read_csv('../references/banks_tickers.txt', sep='\\t',  skiprows = 1, names = ['Index', 'Name', 'Ticker'])\n",
    "public_banks_df.head(20)"
   ]
  },
  {
   "cell_type": "code",
   "execution_count": 30,
   "metadata": {},
   "outputs": [],
   "source": [
    "# create list of ticker abbreviations for tradable banks\n",
    "ticker_abbr = public_banks_df['Ticker']"
   ]
  },
  {
   "cell_type": "markdown",
   "metadata": {},
   "source": [
    "##### Pull stock info for 52 Tradable Banks"
   ]
  },
  {
   "cell_type": "code",
   "execution_count": 32,
   "metadata": {},
   "outputs": [],
   "source": [
    "# The below for loop pulls the first 5 banks from the ticker abbreviation list. \n",
    "# Note, the API will throw an error if you pull more than 5 stock sheets at a time\n",
    "ALPHA_VANTAGE_KEY = Secrets.ALPHA_VANTAGE_KEY\n",
    "\n",
    "function = 'TIME_SERIES_DAILY_ADJUSTED'\n",
    "datatype = 'csv'\n",
    "\n",
    "for bank in ticker_abbr[0:3]: \n",
    "    symbol = bank\n",
    "    url = f\"https://www.alphavantage.co/query?function={function}&symbol={symbol}&datatype={datatype}&apikey={ALPHA_VANTAGE_KEY}\"\n",
    "    exec('{} = pd.read_csv(url)'.format(bank)) # why is this not good python code?\n",
    "    exec(\"{}.to_csv('../data/01_raw/{}_stock.csv', index=False)\".format(*bank))\n",
    "    time.sleep(5)\n",
    "    "
   ]
  },
  {
   "cell_type": "code",
   "execution_count": 52,
   "metadata": {},
   "outputs": [],
   "source": [
    "function = 'TIME_SERIES_DAILY_ADJUSTED'\n",
    "datatype = 'csv'\n",
    "symbols = ['WMT', 'TGT']\n",
    "\n",
    "for symbol in symbols: \n",
    "    url = f\"https://www.alphavantage.co/query?function={function}&symbol={symbol}&datatype={datatype}&apikey={ALPHA_VANTAGE_KEY}\"\n",
    "    exec('{} = pd.read_csv(url)'.format(symbol)) # why is this not good python code?\n"
   ]
  },
  {
   "cell_type": "code",
   "execution_count": 56,
   "metadata": {},
   "outputs": [],
   "source": [
    "ALPHA_VANTAGE_KEY = Secrets.ALPHA_VANTAGE_KEY\n",
    "symbols = ['WMT', 'TGT']"
   ]
  },
  {
   "cell_type": "code",
   "execution_count": 67,
   "metadata": {},
   "outputs": [],
   "source": [
    "def alphavantage_csv_download_timeseries_dailyadjusted(symbols, api_key):\n",
    "    for symbol in symbols: \n",
    "        function = 'TIME_SERIES_DAILY_ADJUSTED'\n",
    "        datatype = 'csv'\n",
    "        ALPHA_VANTAGE_KEY = api_key\n",
    "        url = f\"https://www.alphavantage.co/query?function={function}&symbol={symbol}&datatype={datatype}&apikey={ALPHA_VANTAGE_KEY}\"\n",
    "        exec('{} = pd.read_csv(url)'.format(symbol)) # why is this not good python code?\n",
    "        time.sleep(5)\n",
    "        "
   ]
  },
  {
   "cell_type": "code",
   "execution_count": 68,
   "metadata": {},
   "outputs": [],
   "source": [
    "alphavantage_csv_download_timeseries_dailyadjusted(symbols, ALPHA_VANTAGE_KEY)"
   ]
  },
  {
   "cell_type": "code",
   "execution_count": 70,
   "metadata": {},
   "outputs": [],
   "source": [
    "test"
   ]
  },
  {
   "cell_type": "code",
   "execution_count": null,
   "metadata": {},
   "outputs": [],
   "source": [
    "ISS_loc = []\n",
    "count = 0\n",
    "while count <= 120:    \n",
    "    # Reachout to the ISS API\n",
    "    response = requests.get(\"http://api.open-notify.org/iss-now.json\")\n",
    "    status = response.status_code\n",
    "    \n",
    "    # Check status code for an appropriate response fromt the API\n",
    "    if status != 200:\n",
    "        print(f'Error improper response code. Code is {status}')\n",
    "        break\n",
    "    else:\n",
    "        # Turn the API response into JSON\n",
    "        resp = response.json()\n",
    "        # append each API response to the list of ISS locations\n",
    "        ISS_loc.append(resp)\n",
    "        # pause the loop for 5 seconds to allow the ISS to move slightly\n",
    "        time.sleep(5)\n",
    "        # Add to the count so it doesn't access the API too many times\n",
    "        count = count + 1"
   ]
  },
  {
   "cell_type": "code",
   "execution_count": null,
   "metadata": {},
   "outputs": [],
   "source": [
    "ticker_abbr[8:9]"
   ]
  },
  {
   "cell_type": "code",
   "execution_count": null,
   "metadata": {},
   "outputs": [],
   "source": [
    "ASB.to_csv('../data/01_raw/asb_stock.csv', index=False)"
   ]
  },
  {
   "cell_type": "markdown",
   "metadata": {},
   "source": [
    "##### Save bank stock data to CSVs in 01_raw data foldert"
   ]
  },
  {
   "cell_type": "code",
   "execution_count": null,
   "metadata": {},
   "outputs": [],
   "source": [
    "BKU.to_csv('../data/01_raw/bku_stock.csv', index=False)"
   ]
  },
  {
   "cell_type": "code",
   "execution_count": null,
   "metadata": {},
   "outputs": [],
   "source": [
    "# save csv to file\n",
    "ALLY.to_csv('../data/01_raw/ally_stock.csv', index=False)\n",
    "ASB.to_csv('../data/01_raw/asb_stock.csv', index=False)\n",
    "AX.to_csv('../data/01_raw/ax_stock.csv', index=False)\n",
    "BANC.to_csv('../data/01_raw/banc_stock.csv', index=False)\n",
    "BXS.to_csv('../data/01_raw/bxs_stock.csv', index=False)\n",
    "BAC.to_csv('../data/01_raw/bac_stock.csv', index=False)\n",
    "BOH.to_csv('../data/01_raw/boh_stock.csv', index=False)\n",
    "BK.to_csv('../data/01_raw/bk_stock.csv', index=False)\n",
    "BBT.to_csv('../data/01_raw/bbt_stock.csv', index=False)\n",
    "BHLB.to_csv('../data/01_raw/bhlb_stock.csv', index=False)\n",
    "BY.to_csv('../data/01_raw/by_stock.csv', index=False)\n",
    "CADE.to_csv('../data/01_raw/cade_stock.csv', index=False)\n",
    "COF.to_csv('../data/01_raw/cof_stock.csv', index=False)\n",
    "CIT.to_csv('../data/01_raw/cit_stock.csv', index=False)\n",
    "C.to_csv('../data/01_raw/c_stock.csv', index=False)\n",
    "CFG.to_csv('../data/01_raw/cfg_stock.csv', index=False)\n",
    "CMA.to_csv('../data/01_raw/cma_stock.csv', index=False)\n",
    "CBU.to_csv('../data/01_raw/cbu_stock.csv', index=False)\n",
    "CPF.to_csv('../data/01_raw/cpf_stock.csv', index=False)\n",
    "CFR.to_csv('../data/01_raw/cfr_stock.csv', index=False)\n",
    "CUBI.to_csv('../data/01_raw/cubi_stock.csv', index=False)\n",
    "FNB.to_csv('../data/01_raw/fnb_stock.csv', index=False)\n",
    "FBK.to_csv('../data/01_raw/fbk_stock.csv', index=False)\n",
    "FCB.to_csv('../data/01_raw/fcb_stock.csv', index=False)\n",
    "FCF.to_csv('../data/01_raw/fcf_stock.csv', index=False)\n",
    "FHN.to_csv('../data/01_raw/fhn_stock.csv', index=False)\n",
    "FBC.to_csv('../data/01_raw/fbc_stock.csv', index=False)\n",
    "FSB.to_csv('../data/01_raw/fsb_stock.csv', index=False)\n",
    "GWB.to_csv('../data/01_raw/gwb_stock.csv', index=False)\n",
    "HTH.to_csv('../data/01_raw/hth_stock.csv', index=False)\n",
    "JPM.to_csv('../data/01_raw/jpm_stock.csv', index=False)\n",
    "KEY.to_csv('../data/01_raw/key_stock.csv', index=False)\n",
    "MTB.to_csv('../data/01_raw/mtb_stock.csv', index=False)\n",
    "MFCB.to_csv('../data/01_raw/mfcb_stock.csv', index=False)\n",
    "MSL.to_csv('../data/01_raw/msl_stock.csv', index=False)\n",
    "NBHC.to_csv('../data/01_raw/nbhc_stock.csv', index=False)\n",
    "NYCB.to_csv('../data/01_raw/nycb_stock.csv', index=False)\n",
    "PNC.to_csv('../data/01_raw/pnc_stock.csv', index=False)\n",
    "PB.to_csv('../data/01_raw/pb_stock.csv', index=False)\n",
    "PFS.to_csv('../data/01_raw/pfs_stock.csv', index=False)\n",
    "RF.to_csv('../data/01_raw/rf_stock.csv', index=False)\n",
    "STT.to_csv('../data/01_raw/stt_stock.csv', index=False)\n",
    "STL.to_csv('../data/01_raw/stl_stock.csv', index=False)\n",
    "STI.to_csv('../data/01_raw/sti_stock.csv', index=False)\n",
    "SNV.to_csv('../data/01_raw/snv_stock.csv', index=False)\n",
    "TCF.to_csv('../data/01_raw/tcf_stock.csv', index=False)\n",
    "USB.to_csv('../data/01_raw/usv_stock.csv', index=False)\n",
    "WBS.to_csv('../data/01_raw/wbs_stock.csv', index=False)\n",
    "WFC.to_csv('../data/01_raw/wfc_stock.csv', index=False)\n",
    "WAL.to_csv('../data/01_raw/wal_stock.csv', index=False)\n",
    "ZBK.to_csv('../data/01_raw/zbk_stock.csv', index=False)"
   ]
  },
  {
   "cell_type": "code",
   "execution_count": null,
   "metadata": {},
   "outputs": [],
   "source": []
  }
 ],
 "metadata": {
  "kernelspec": {
   "display_name": "Python 3",
   "language": "python",
   "name": "python3"
  },
  "language_info": {
   "codemirror_mode": {
    "name": "ipython",
    "version": 3
   },
   "file_extension": ".py",
   "mimetype": "text/x-python",
   "name": "python",
   "nbconvert_exporter": "python",
   "pygments_lexer": "ipython3",
   "version": "3.7.1"
  }
 },
 "nbformat": 4,
 "nbformat_minor": 2
}
