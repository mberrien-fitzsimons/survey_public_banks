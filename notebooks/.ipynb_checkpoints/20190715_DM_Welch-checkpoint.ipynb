{
 "cells": [
  {
   "cell_type": "code",
   "execution_count": 29,
   "metadata": {},
   "outputs": [],
   "source": [
    "import pandas as pd\n",
    "import os\n",
    "import sys\n",
    "import matplotlib.pyplot as plt\n",
    "import seaborn as sns\n",
    "%matplotlib inline"
   ]
  },
  {
   "cell_type": "code",
   "execution_count": 45,
   "metadata": {},
   "outputs": [],
   "source": [
    "#Load data from data/ folder\n",
    "conf_dir = os.path.join(os.getcwd(), '..', 'conf')\n",
    "sys.path.append(conf_dir)\n",
    "key_stats_df = pd.read_csv('../data/01_raw/all_stocks_stats.csv', index_col = 'ticker')"
   ]
  },
  {
   "cell_type": "code",
   "execution_count": 46,
   "metadata": {},
   "outputs": [
    {
     "data": {
      "text/html": [
       "<div>\n",
       "<style scoped>\n",
       "    .dataframe tbody tr th:only-of-type {\n",
       "        vertical-align: middle;\n",
       "    }\n",
       "\n",
       "    .dataframe tbody tr th {\n",
       "        vertical-align: top;\n",
       "    }\n",
       "\n",
       "    .dataframe thead th {\n",
       "        text-align: right;\n",
       "    }\n",
       "</style>\n",
       "<table border=\"1\" class=\"dataframe\">\n",
       "  <thead>\n",
       "    <tr style=\"text-align: right;\">\n",
       "      <th></th>\n",
       "      <th>avg10Volume</th>\n",
       "      <th>avg30Volume</th>\n",
       "      <th>beta</th>\n",
       "      <th>companyName</th>\n",
       "      <th>day200MovingAvg</th>\n",
       "      <th>day30ChangePercent</th>\n",
       "      <th>day50MovingAvg</th>\n",
       "      <th>day5ChangePercent</th>\n",
       "      <th>dividendYield</th>\n",
       "      <th>employees</th>\n",
       "      <th>...</th>\n",
       "      <th>sharesOutstanding</th>\n",
       "      <th>ttmDividendRate</th>\n",
       "      <th>ttmEPS</th>\n",
       "      <th>week52change</th>\n",
       "      <th>week52high</th>\n",
       "      <th>week52low</th>\n",
       "      <th>year1ChangePercent</th>\n",
       "      <th>year2ChangePercent</th>\n",
       "      <th>year5ChangePercent</th>\n",
       "      <th>ytdChangePercent</th>\n",
       "    </tr>\n",
       "    <tr>\n",
       "      <th>ticker</th>\n",
       "      <th></th>\n",
       "      <th></th>\n",
       "      <th></th>\n",
       "      <th></th>\n",
       "      <th></th>\n",
       "      <th></th>\n",
       "      <th></th>\n",
       "      <th></th>\n",
       "      <th></th>\n",
       "      <th></th>\n",
       "      <th></th>\n",
       "      <th></th>\n",
       "      <th></th>\n",
       "      <th></th>\n",
       "      <th></th>\n",
       "      <th></th>\n",
       "      <th></th>\n",
       "      <th></th>\n",
       "      <th></th>\n",
       "      <th></th>\n",
       "      <th></th>\n",
       "    </tr>\n",
       "  </thead>\n",
       "  <tbody>\n",
       "    <tr>\n",
       "      <th>ALLY</th>\n",
       "      <td>3913238.7</td>\n",
       "      <td>3426109.67</td>\n",
       "      <td>1.071768</td>\n",
       "      <td>Ally Financial, Inc.</td>\n",
       "      <td>27.09</td>\n",
       "      <td>0.116037</td>\n",
       "      <td>29.94</td>\n",
       "      <td>0.029393</td>\n",
       "      <td>0.018622</td>\n",
       "      <td>8200.0</td>\n",
       "      <td>...</td>\n",
       "      <td>397159000.0</td>\n",
       "      <td>0.60</td>\n",
       "      <td>3.3258</td>\n",
       "      <td>0.182385</td>\n",
       "      <td>32.35</td>\n",
       "      <td>20.60</td>\n",
       "      <td>0.182385</td>\n",
       "      <td>0.497740</td>\n",
       "      <td>0.220630</td>\n",
       "      <td>0.408217</td>\n",
       "    </tr>\n",
       "    <tr>\n",
       "      <th>ASB</th>\n",
       "      <td>1149119.2</td>\n",
       "      <td>1132926.40</td>\n",
       "      <td>0.773964</td>\n",
       "      <td>Associated Banc-Corp</td>\n",
       "      <td>22.24</td>\n",
       "      <td>0.058051</td>\n",
       "      <td>21.29</td>\n",
       "      <td>-0.014575</td>\n",
       "      <td>0.030534</td>\n",
       "      <td>4699.0</td>\n",
       "      <td>...</td>\n",
       "      <td>163904000.0</td>\n",
       "      <td>0.64</td>\n",
       "      <td>2.0200</td>\n",
       "      <td>-0.255417</td>\n",
       "      <td>28.45</td>\n",
       "      <td>18.53</td>\n",
       "      <td>-0.255417</td>\n",
       "      <td>-0.092157</td>\n",
       "      <td>0.330460</td>\n",
       "      <td>0.050627</td>\n",
       "    </tr>\n",
       "    <tr>\n",
       "      <th>AX</th>\n",
       "      <td>382155.2</td>\n",
       "      <td>340892.97</td>\n",
       "      <td>1.025364</td>\n",
       "      <td>Axos Financial, Inc.</td>\n",
       "      <td>29.81</td>\n",
       "      <td>-0.020139</td>\n",
       "      <td>28.17</td>\n",
       "      <td>0.001497</td>\n",
       "      <td>NaN</td>\n",
       "      <td>801.0</td>\n",
       "      <td>...</td>\n",
       "      <td>61286000.0</td>\n",
       "      <td>NaN</td>\n",
       "      <td>2.4200</td>\n",
       "      <td>-0.339748</td>\n",
       "      <td>43.16</td>\n",
       "      <td>23.87</td>\n",
       "      <td>-0.339748</td>\n",
       "      <td>0.264550</td>\n",
       "      <td>0.515980</td>\n",
       "      <td>0.059802</td>\n",
       "    </tr>\n",
       "    <tr>\n",
       "      <th>BANC</th>\n",
       "      <td>268698.8</td>\n",
       "      <td>317637.33</td>\n",
       "      <td>0.820021</td>\n",
       "      <td>Banc of California, Inc.</td>\n",
       "      <td>15.12</td>\n",
       "      <td>0.056689</td>\n",
       "      <td>13.91</td>\n",
       "      <td>-0.002853</td>\n",
       "      <td>0.037196</td>\n",
       "      <td>741.0</td>\n",
       "      <td>...</td>\n",
       "      <td>50367000.0</td>\n",
       "      <td>0.52</td>\n",
       "      <td>0.4269</td>\n",
       "      <td>-0.273766</td>\n",
       "      <td>20.45</td>\n",
       "      <td>12.22</td>\n",
       "      <td>-0.273766</td>\n",
       "      <td>-0.296912</td>\n",
       "      <td>0.247892</td>\n",
       "      <td>0.028698</td>\n",
       "    </tr>\n",
       "    <tr>\n",
       "      <th>BXS</th>\n",
       "      <td>402206.4</td>\n",
       "      <td>431958.80</td>\n",
       "      <td>0.860521</td>\n",
       "      <td>BancorpSouth Bank</td>\n",
       "      <td>29.31</td>\n",
       "      <td>0.074594</td>\n",
       "      <td>28.63</td>\n",
       "      <td>0.010066</td>\n",
       "      <td>0.022337</td>\n",
       "      <td>4445.0</td>\n",
       "      <td>...</td>\n",
       "      <td>101636000.0</td>\n",
       "      <td>0.65</td>\n",
       "      <td>2.2177</td>\n",
       "      <td>-0.139053</td>\n",
       "      <td>35.39</td>\n",
       "      <td>24.30</td>\n",
       "      <td>-0.139053</td>\n",
       "      <td>-0.001303</td>\n",
       "      <td>0.334204</td>\n",
       "      <td>0.093574</td>\n",
       "    </tr>\n",
       "  </tbody>\n",
       "</table>\n",
       "<p>5 rows × 30 columns</p>\n",
       "</div>"
      ],
      "text/plain": [
       "        avg10Volume  avg30Volume      beta               companyName  \\\n",
       "ticker                                                                 \n",
       "ALLY      3913238.7   3426109.67  1.071768      Ally Financial, Inc.   \n",
       "ASB       1149119.2   1132926.40  0.773964      Associated Banc-Corp   \n",
       "AX         382155.2    340892.97  1.025364      Axos Financial, Inc.   \n",
       "BANC       268698.8    317637.33  0.820021  Banc of California, Inc.   \n",
       "BXS        402206.4    431958.80  0.860521         BancorpSouth Bank   \n",
       "\n",
       "        day200MovingAvg  day30ChangePercent  day50MovingAvg  \\\n",
       "ticker                                                        \n",
       "ALLY              27.09            0.116037           29.94   \n",
       "ASB               22.24            0.058051           21.29   \n",
       "AX                29.81           -0.020139           28.17   \n",
       "BANC              15.12            0.056689           13.91   \n",
       "BXS               29.31            0.074594           28.63   \n",
       "\n",
       "        day5ChangePercent  dividendYield  employees  ... sharesOutstanding  \\\n",
       "ticker                                               ...                     \n",
       "ALLY             0.029393       0.018622     8200.0  ...       397159000.0   \n",
       "ASB             -0.014575       0.030534     4699.0  ...       163904000.0   \n",
       "AX               0.001497            NaN      801.0  ...        61286000.0   \n",
       "BANC            -0.002853       0.037196      741.0  ...        50367000.0   \n",
       "BXS              0.010066       0.022337     4445.0  ...       101636000.0   \n",
       "\n",
       "        ttmDividendRate  ttmEPS  week52change  week52high  week52low  \\\n",
       "ticker                                                                 \n",
       "ALLY               0.60  3.3258      0.182385       32.35      20.60   \n",
       "ASB                0.64  2.0200     -0.255417       28.45      18.53   \n",
       "AX                  NaN  2.4200     -0.339748       43.16      23.87   \n",
       "BANC               0.52  0.4269     -0.273766       20.45      12.22   \n",
       "BXS                0.65  2.2177     -0.139053       35.39      24.30   \n",
       "\n",
       "        year1ChangePercent year2ChangePercent year5ChangePercent  \\\n",
       "ticker                                                             \n",
       "ALLY              0.182385           0.497740           0.220630   \n",
       "ASB              -0.255417          -0.092157           0.330460   \n",
       "AX               -0.339748           0.264550           0.515980   \n",
       "BANC             -0.273766          -0.296912           0.247892   \n",
       "BXS              -0.139053          -0.001303           0.334204   \n",
       "\n",
       "        ytdChangePercent  \n",
       "ticker                    \n",
       "ALLY            0.408217  \n",
       "ASB             0.050627  \n",
       "AX              0.059802  \n",
       "BANC            0.028698  \n",
       "BXS             0.093574  \n",
       "\n",
       "[5 rows x 30 columns]"
      ]
     },
     "execution_count": 46,
     "metadata": {},
     "output_type": "execute_result"
    }
   ],
   "source": [
    "key_stats_df.head()"
   ]
  },
  {
   "cell_type": "code",
   "execution_count": 48,
   "metadata": {},
   "outputs": [
    {
     "data": {
      "text/plain": [
       "Index(['avg10Volume', 'avg30Volume', 'beta', 'companyName', 'day200MovingAvg',\n",
       "       'day30ChangePercent', 'day50MovingAvg', 'day5ChangePercent',\n",
       "       'dividendYield', 'employees', 'exDividendDate', 'float', 'marketcap',\n",
       "       'maxChangePercent', 'month1ChangePercent', 'month3ChangePercent',\n",
       "       'month6ChangePercent', 'nextDividendDate', 'nextEarningsDate',\n",
       "       'peRatio', 'sharesOutstanding', 'ttmDividendRate', 'ttmEPS',\n",
       "       'week52change', 'week52high', 'week52low', 'year1ChangePercent',\n",
       "       'year2ChangePercent', 'year5ChangePercent', 'ytdChangePercent'],\n",
       "      dtype='object')"
      ]
     },
     "execution_count": 48,
     "metadata": {},
     "output_type": "execute_result"
    }
   ],
   "source": [
    "#Inspect data, get column names\n",
    "key_stats_df.columns\n"
   ]
  },
  {
   "cell_type": "code",
   "execution_count": 49,
   "metadata": {},
   "outputs": [],
   "source": [
    "#Calc additional data: 10-day and 30-day volume over market cap ratio\n",
    "key_stats_df['avg10VolRatio'] = (key_stats_df.avg10Volume / key_stats_df.marketcap)*100\n",
    "key_stats_df['avg30VolRatio'] = (key_stats_df.avg30Volume / key_stats_df.marketcap)*100"
   ]
  },
  {
   "cell_type": "code",
   "execution_count": 53,
   "metadata": {},
   "outputs": [
    {
     "data": {
      "text/plain": [
       "<matplotlib.axes._subplots.AxesSubplot at 0x1a1bac0588>"
      ]
     },
     "execution_count": 53,
     "metadata": {},
     "output_type": "execute_result"
    },
    {
     "data": {
      "image/png": "[encoded data removed]",
      "text/plain": [
       "<Figure size 864x720 with 1 Axes>"
      ]
     },
     "metadata": {},
     "output_type": "display_data"
    }
   ],
   "source": [
    "#Clean and inspect data visually, 10-day\n",
    "key_stats_df.avg10VolRatio.dropna(axis=0, inplace=True)\n",
    "key_stats_df.avg10VolRatio.hist()"
   ]
  },
  {
   "cell_type": "code",
   "execution_count": 54,
   "metadata": {},
   "outputs": [
    {
     "data": {
      "text/plain": [
       "<matplotlib.axes._subplots.AxesSubplot at 0x1a1e941978>"
      ]
     },
     "execution_count": 54,
     "metadata": {},
     "output_type": "execute_result"
    },
    {
     "data": {
      "image/png": "[encoded data removed]",
      "text/plain": [
       "<Figure size 864x720 with 1 Axes>"
      ]
     },
     "metadata": {},
     "output_type": "display_data"
    }
   ],
   "source": [
    "key_stats_df.boxplot(column = 'avg10VolRatio')"
   ]
  },
  {
   "cell_type": "code",
   "execution_count": 55,
   "metadata": {},
   "outputs": [
    {
     "data": {
      "text/plain": [
       "<matplotlib.axes._subplots.AxesSubplot at 0x1a1eb3d550>"
      ]
     },
     "execution_count": 55,
     "metadata": {},
     "output_type": "execute_result"
    },
    {
     "data": {
      "image/png": "[encoded data removed]",
      "text/plain": [
       "<Figure size 864x720 with 1 Axes>"
      ]
     },
     "metadata": {},
     "output_type": "display_data"
    }
   ],
   "source": [
    "#Clean and inspect data visually, 30-day\n",
    "key_stats_df.avg30VolRatio.dropna(axis=0, inplace=True)\n",
    "key_stats_df.avg30VolRatio.hist()"
   ]
  },
  {
   "cell_type": "code",
   "execution_count": 56,
   "metadata": {
    "scrolled": true
   },
   "outputs": [
    {
     "data": {
      "text/plain": [
       "<matplotlib.axes._subplots.AxesSubplot at 0x1a1ed53f60>"
      ]
     },
     "execution_count": 56,
     "metadata": {},
     "output_type": "execute_result"
    },
    {
     "data": {
      "image/png": "[encoded data removed]",
      "text/plain": [
       "<Figure size 864x720 with 1 Axes>"
      ]
     },
     "metadata": {},
     "output_type": "display_data"
    }
   ],
   "source": [
    "key_stats_df.boxplot(column = 'avg30VolRatio')"
   ]
  },
  {
   "cell_type": "code",
   "execution_count": 57,
   "metadata": {},
   "outputs": [
    {
     "name": "stdout",
     "output_type": "stream",
     "text": [
      "Critical t:  0.44664246343132236\n",
      "Degrees of freedom:  95.06197033663354\n",
      "P-value:  0.3280745401990973\n"
     ]
    },
    {
     "data": {
      "image/png": "[encoded data removed]",
      "text/plain": [
       "<Figure size 864x720 with 1 Axes>"
      ]
     },
     "metadata": {},
     "output_type": "display_data"
    }
   ],
   "source": [
    "\n",
    "\"\"\" \n",
    "T-test: Compares the means of a variable from TWO groups. An independent t-test compares the means of two \n",
    "different groups (e.g., reaction times on a task for women vs. men), whereas a paired t-test compares the \n",
    "means of the same group at two different times (e.g., reaction times for the same people on a task before \n",
    "or after a training period).\n",
    "Just as student's  t-test is a useful adaptation of the normal distribution which can lead to better likelihood \n",
    "estimates under certain conditions, the Welch's  t-test is a further adaptation that account for additional \n",
    "pertubations in the underlying assumptions of the model. Specifically, the student's  t-test assumes that the \n",
    "samples are of equal size and equal variance. When these assumptions are not met, then Welch's  t-test provides a \n",
    "more accurate p-value. \n",
    "\"\"\"\n",
    "\n",
    "#Welch's Test to compare avgVol/MarcetCap at two different times, using 10-day and 30-day avergages:\n",
    "import scipy.stats as stats\n",
    "import numpy as np\n",
    "#Step 1: compute  welch_t\n",
    "avg10 = key_stats_df.avg10VolRatio\n",
    "avg30 = key_stats_df.avg30VolRatio\n",
    "num1 = avg10.mean() - avg30.mean()\n",
    "denom1 = np.sqrt(avg10.var(ddof = 1)/len(avg10) + avg30.var(ddof =1)/len(avg30))\n",
    "welch_t = np.abs(num1/denom1)\n",
    "print(\"Critical t: \", welch_t)\n",
    "\n",
    "#Step 2: compute the effective degrees of freedom fro 2 samples\n",
    "s1 = avg10.var(ddof=1)\n",
    "s2 = avg30.var(ddof=1)\n",
    "n1 = len(avg10)\n",
    "n2 = len(avg30)\n",
    "num2 = (s1/n1 + s2/n2)**2\n",
    "denom2 = (s1/n1)**2/(n1-1)+(s2/n2)**2/(n2-1)\n",
    "welch_df = num2/denom2\n",
    "print(\"Degrees of freedom: \",welch_df)\n",
    "\n",
    "#Step 3: compute p-value for the to samples using cdf function from scipy library\n",
    "p_value = 1-stats.t.cdf(welch_t, welch_df)\n",
    "print(\"P-value: \",p_value)\n",
    "\n",
    "#Check Misha's code for the chart\n",
    "sns.set(color_codes=True)\n",
    "sns.set(rc={'figure.figsize':(12,10)})\n",
    "sns.distplot(avg10) # Blue distribution\n",
    "sns.distplot(avg30) # Green distribution\n",
    "plt.show()\n",
    "\n",
    "#BAsed on the findings we fail to reject H0 that 10-day and 30-day volume over market cap are different "
   ]
  },
  {
   "cell_type": "code",
   "execution_count": null,
   "metadata": {},
   "outputs": [],
   "source": []
  }
 ],
 "metadata": {
  "kernelspec": {
   "display_name": "Python 3",
   "language": "python",
   "name": "python3"
  },
  "language_info": {
   "codemirror_mode": {
    "name": "ipython",
    "version": 3
   },
   "file_extension": ".py",
   "mimetype": "text/x-python",
   "name": "python",
   "nbconvert_exporter": "python",
   "pygments_lexer": "ipython3",
   "version": "3.7.1"
  }
 },
 "nbformat": 4,
 "nbformat_minor": 2
}
