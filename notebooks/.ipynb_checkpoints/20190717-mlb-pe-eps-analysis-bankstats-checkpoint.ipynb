{
 "cells": [
  {
   "cell_type": "markdown",
   "metadata": {},
   "source": [
    "### Bank Statistics: Analysis of EPS and PE Ratio"
   ]
  },
  {
   "cell_type": "code",
   "execution_count": 1,
   "metadata": {},
   "outputs": [],
   "source": [
    "# import packages \n",
    "import matplotlib.pyplot as plt\n",
    "import math\n",
    "import numpy as np\n",
    "import os\n",
    "import pandas as pd\n",
    "import requests\n",
    "import seaborn as sns\n",
    "import sys\n",
    "\n",
    "from scipy import stats "
   ]
  },
  {
   "cell_type": "code",
   "execution_count": 2,
   "metadata": {},
   "outputs": [],
   "source": [
    "bank_stats = pd.read_csv('../data/01_raw/all_stocks_stats.csv', index_col='ticker')"
   ]
  },
  {
   "cell_type": "code",
   "execution_count": 3,
   "metadata": {},
   "outputs": [
    {
     "data": {
      "text/plain": [
       "Index(['avg10Volume', 'avg30Volume', 'beta', 'companyName', 'day200MovingAvg',\n",
       "       'day30ChangePercent', 'day50MovingAvg', 'day5ChangePercent',\n",
       "       'dividendYield', 'employees', 'exDividendDate', 'float', 'marketcap',\n",
       "       'maxChangePercent', 'month1ChangePercent', 'month3ChangePercent',\n",
       "       'month6ChangePercent', 'nextDividendDate', 'nextEarningsDate',\n",
       "       'peRatio', 'sharesOutstanding', 'ttmDividendRate', 'ttmEPS',\n",
       "       'week52change', 'week52high', 'week52low', 'year1ChangePercent',\n",
       "       'year2ChangePercent', 'year5ChangePercent', 'ytdChangePercent'],\n",
       "      dtype='object')"
      ]
     },
     "execution_count": 3,
     "metadata": {},
     "output_type": "execute_result"
    }
   ],
   "source": [
    "bank_stats.columns"
   ]
  },
  {
   "cell_type": "markdown",
   "metadata": {},
   "source": [
    "##### Look at EPS Distribution"
   ]
  },
  {
   "cell_type": "code",
   "execution_count": 4,
   "metadata": {},
   "outputs": [
    {
     "data": {
      "image/png": "[encoded data removed]",
      "text/plain": [
       "<Figure size 432x288 with 1 Axes>"
      ]
     },
     "metadata": {
      "needs_background": "light"
     },
     "output_type": "display_data"
    }
   ],
   "source": [
    "bank_stats.ttmEPS.hist()\n",
    "plt.show()"
   ]
  },
  {
   "cell_type": "code",
   "execution_count": 5,
   "metadata": {},
   "outputs": [],
   "source": [
    "bank_stats.dropna(subset=['ttmEPS'], inplace=True)"
   ]
  },
  {
   "cell_type": "code",
   "execution_count": 6,
   "metadata": {},
   "outputs": [
    {
     "data": {
      "image/png": "[encoded data removed]",
      "text/plain": [
       "<Figure size 432x288 with 1 Axes>"
      ]
     },
     "metadata": {
      "needs_background": "light"
     },
     "output_type": "display_data"
    }
   ],
   "source": [
    "plt.figure()\n",
    "plt.boxplot(bank_stats.ttmEPS)\n",
    "plt.show()"
   ]
  },
  {
   "cell_type": "code",
   "execution_count": 7,
   "metadata": {
    "scrolled": true
   },
   "outputs": [
    {
     "data": {
      "text/html": [
       "<div>\n",
       "<style scoped>\n",
       "    .dataframe tbody tr th:only-of-type {\n",
       "        vertical-align: middle;\n",
       "    }\n",
       "\n",
       "    .dataframe tbody tr th {\n",
       "        vertical-align: top;\n",
       "    }\n",
       "\n",
       "    .dataframe thead th {\n",
       "        text-align: right;\n",
       "    }\n",
       "</style>\n",
       "<table border=\"1\" class=\"dataframe\">\n",
       "  <thead>\n",
       "    <tr style=\"text-align: right;\">\n",
       "      <th></th>\n",
       "      <th>avg10Volume</th>\n",
       "      <th>avg30Volume</th>\n",
       "      <th>beta</th>\n",
       "      <th>companyName</th>\n",
       "      <th>day200MovingAvg</th>\n",
       "      <th>day30ChangePercent</th>\n",
       "      <th>day50MovingAvg</th>\n",
       "      <th>day5ChangePercent</th>\n",
       "      <th>dividendYield</th>\n",
       "      <th>employees</th>\n",
       "      <th>...</th>\n",
       "      <th>sharesOutstanding</th>\n",
       "      <th>ttmDividendRate</th>\n",
       "      <th>ttmEPS</th>\n",
       "      <th>week52change</th>\n",
       "      <th>week52high</th>\n",
       "      <th>week52low</th>\n",
       "      <th>year1ChangePercent</th>\n",
       "      <th>year2ChangePercent</th>\n",
       "      <th>year5ChangePercent</th>\n",
       "      <th>ytdChangePercent</th>\n",
       "    </tr>\n",
       "    <tr>\n",
       "      <th>ticker</th>\n",
       "      <th></th>\n",
       "      <th></th>\n",
       "      <th></th>\n",
       "      <th></th>\n",
       "      <th></th>\n",
       "      <th></th>\n",
       "      <th></th>\n",
       "      <th></th>\n",
       "      <th></th>\n",
       "      <th></th>\n",
       "      <th></th>\n",
       "      <th></th>\n",
       "      <th></th>\n",
       "      <th></th>\n",
       "      <th></th>\n",
       "      <th></th>\n",
       "      <th></th>\n",
       "      <th></th>\n",
       "      <th></th>\n",
       "      <th></th>\n",
       "      <th></th>\n",
       "    </tr>\n",
       "  </thead>\n",
       "  <tbody>\n",
       "    <tr>\n",
       "      <th>COF</th>\n",
       "      <td>1781125.0</td>\n",
       "      <td>1771922.17</td>\n",
       "      <td>1.074373</td>\n",
       "      <td>Capital One Financial Corp.</td>\n",
       "      <td>86.28</td>\n",
       "      <td>0.060557</td>\n",
       "      <td>90.52</td>\n",
       "      <td>-0.007952</td>\n",
       "      <td>0.017569</td>\n",
       "      <td>47600.0</td>\n",
       "      <td>...</td>\n",
       "      <td>4.695970e+08</td>\n",
       "      <td>1.60</td>\n",
       "      <td>12.1154</td>\n",
       "      <td>-0.050464</td>\n",
       "      <td>101.26</td>\n",
       "      <td>69.90</td>\n",
       "      <td>-0.050464</td>\n",
       "      <td>0.139917</td>\n",
       "      <td>0.224941</td>\n",
       "      <td>0.178747</td>\n",
       "    </tr>\n",
       "    <tr>\n",
       "      <th>JPM</th>\n",
       "      <td>10684411.4</td>\n",
       "      <td>11479239.90</td>\n",
       "      <td>0.886208</td>\n",
       "      <td>JPMorgan Chase &amp; Co.</td>\n",
       "      <td>107.12</td>\n",
       "      <td>0.088146</td>\n",
       "      <td>110.88</td>\n",
       "      <td>0.021529</td>\n",
       "      <td>0.025672</td>\n",
       "      <td>256105.0</td>\n",
       "      <td>...</td>\n",
       "      <td>3.243970e+09</td>\n",
       "      <td>2.96</td>\n",
       "      <td>9.3049</td>\n",
       "      <td>0.042684</td>\n",
       "      <td>119.24</td>\n",
       "      <td>91.11</td>\n",
       "      <td>0.042684</td>\n",
       "      <td>0.321355</td>\n",
       "      <td>1.129325</td>\n",
       "      <td>0.161011</td>\n",
       "    </tr>\n",
       "    <tr>\n",
       "      <th>MTB</th>\n",
       "      <td>602006.1</td>\n",
       "      <td>594480.40</td>\n",
       "      <td>0.694282</td>\n",
       "      <td>M&amp;T Bank Corp.</td>\n",
       "      <td>163.73</td>\n",
       "      <td>0.090664</td>\n",
       "      <td>166.93</td>\n",
       "      <td>0.006011</td>\n",
       "      <td>0.021830</td>\n",
       "      <td>17267.0</td>\n",
       "      <td>...</td>\n",
       "      <td>1.366220e+08</td>\n",
       "      <td>3.80</td>\n",
       "      <td>13.9088</td>\n",
       "      <td>0.035391</td>\n",
       "      <td>180.77</td>\n",
       "      <td>133.78</td>\n",
       "      <td>0.035391</td>\n",
       "      <td>0.061789</td>\n",
       "      <td>0.404185</td>\n",
       "      <td>0.201394</td>\n",
       "    </tr>\n",
       "    <tr>\n",
       "      <th>MFCB</th>\n",
       "      <td>14105.9</td>\n",
       "      <td>26383.57</td>\n",
       "      <td>0.523011</td>\n",
       "      <td>MFC Bancorp Ltd.</td>\n",
       "      <td>7.04</td>\n",
       "      <td>0.350897</td>\n",
       "      <td>10.40</td>\n",
       "      <td>-0.034455</td>\n",
       "      <td>NaN</td>\n",
       "      <td>230.0</td>\n",
       "      <td>...</td>\n",
       "      <td>1.253500e+07</td>\n",
       "      <td>NaN</td>\n",
       "      <td>-2.9602</td>\n",
       "      <td>0.928000</td>\n",
       "      <td>15.72</td>\n",
       "      <td>4.00</td>\n",
       "      <td>0.926613</td>\n",
       "      <td>0.673246</td>\n",
       "      <td>0.405941</td>\n",
       "      <td>0.868217</td>\n",
       "    </tr>\n",
       "    <tr>\n",
       "      <th>MSL</th>\n",
       "      <td>89966.0</td>\n",
       "      <td>94524.50</td>\n",
       "      <td>0.822502</td>\n",
       "      <td>MidSouth Bancorp, Inc. (Louisiana)</td>\n",
       "      <td>12.14</td>\n",
       "      <td>0.048845</td>\n",
       "      <td>11.78</td>\n",
       "      <td>0.015477</td>\n",
       "      <td>0.003387</td>\n",
       "      <td>474.0</td>\n",
       "      <td>...</td>\n",
       "      <td>1.671700e+07</td>\n",
       "      <td>0.04</td>\n",
       "      <td>-2.2222</td>\n",
       "      <td>-0.137956</td>\n",
       "      <td>16.15</td>\n",
       "      <td>10.07</td>\n",
       "      <td>-0.137956</td>\n",
       "      <td>-0.128378</td>\n",
       "      <td>-0.282536</td>\n",
       "      <td>0.115203</td>\n",
       "    </tr>\n",
       "    <tr>\n",
       "      <th>PNC</th>\n",
       "      <td>1725375.4</td>\n",
       "      <td>1639770.30</td>\n",
       "      <td>0.779417</td>\n",
       "      <td>The PNC Financial Services Group, Inc.</td>\n",
       "      <td>128.71</td>\n",
       "      <td>0.117319</td>\n",
       "      <td>134.03</td>\n",
       "      <td>0.010303</td>\n",
       "      <td>0.025318</td>\n",
       "      <td>53063.0</td>\n",
       "      <td>...</td>\n",
       "      <td>4.514380e+08</td>\n",
       "      <td>3.60</td>\n",
       "      <td>10.9700</td>\n",
       "      <td>0.009227</td>\n",
       "      <td>147.23</td>\n",
       "      <td>108.45</td>\n",
       "      <td>0.009227</td>\n",
       "      <td>0.101795</td>\n",
       "      <td>0.624970</td>\n",
       "      <td>0.196785</td>\n",
       "    </tr>\n",
       "  </tbody>\n",
       "</table>\n",
       "<p>6 rows × 30 columns</p>\n",
       "</div>"
      ],
      "text/plain": [
       "        avg10Volume  avg30Volume      beta  \\\n",
       "ticker                                       \n",
       "COF       1781125.0   1771922.17  1.074373   \n",
       "JPM      10684411.4  11479239.90  0.886208   \n",
       "MTB        602006.1    594480.40  0.694282   \n",
       "MFCB        14105.9     26383.57  0.523011   \n",
       "MSL         89966.0     94524.50  0.822502   \n",
       "PNC       1725375.4   1639770.30  0.779417   \n",
       "\n",
       "                                   companyName  day200MovingAvg  \\\n",
       "ticker                                                            \n",
       "COF                Capital One Financial Corp.            86.28   \n",
       "JPM                       JPMorgan Chase & Co.           107.12   \n",
       "MTB                             M&T Bank Corp.           163.73   \n",
       "MFCB                          MFC Bancorp Ltd.             7.04   \n",
       "MSL         MidSouth Bancorp, Inc. (Louisiana)            12.14   \n",
       "PNC     The PNC Financial Services Group, Inc.           128.71   \n",
       "\n",
       "        day30ChangePercent  day50MovingAvg  day5ChangePercent  dividendYield  \\\n",
       "ticker                                                                         \n",
       "COF               0.060557           90.52          -0.007952       0.017569   \n",
       "JPM               0.088146          110.88           0.021529       0.025672   \n",
       "MTB               0.090664          166.93           0.006011       0.021830   \n",
       "MFCB              0.350897           10.40          -0.034455            NaN   \n",
       "MSL               0.048845           11.78           0.015477       0.003387   \n",
       "PNC               0.117319          134.03           0.010303       0.025318   \n",
       "\n",
       "        employees        ...        sharesOutstanding  ttmDividendRate  \\\n",
       "ticker                   ...                                             \n",
       "COF       47600.0        ...             4.695970e+08             1.60   \n",
       "JPM      256105.0        ...             3.243970e+09             2.96   \n",
       "MTB       17267.0        ...             1.366220e+08             3.80   \n",
       "MFCB        230.0        ...             1.253500e+07              NaN   \n",
       "MSL         474.0        ...             1.671700e+07             0.04   \n",
       "PNC       53063.0        ...             4.514380e+08             3.60   \n",
       "\n",
       "         ttmEPS  week52change  week52high  week52low  year1ChangePercent  \\\n",
       "ticker                                                                     \n",
       "COF     12.1154     -0.050464      101.26      69.90           -0.050464   \n",
       "JPM      9.3049      0.042684      119.24      91.11            0.042684   \n",
       "MTB     13.9088      0.035391      180.77     133.78            0.035391   \n",
       "MFCB    -2.9602      0.928000       15.72       4.00            0.926613   \n",
       "MSL     -2.2222     -0.137956       16.15      10.07           -0.137956   \n",
       "PNC     10.9700      0.009227      147.23     108.45            0.009227   \n",
       "\n",
       "       year2ChangePercent year5ChangePercent  ytdChangePercent  \n",
       "ticker                                                          \n",
       "COF              0.139917           0.224941          0.178747  \n",
       "JPM              0.321355           1.129325          0.161011  \n",
       "MTB              0.061789           0.404185          0.201394  \n",
       "MFCB             0.673246           0.405941          0.868217  \n",
       "MSL             -0.128378          -0.282536          0.115203  \n",
       "PNC              0.101795           0.624970          0.196785  \n",
       "\n",
       "[6 rows x 30 columns]"
      ]
     },
     "execution_count": 7,
     "metadata": {},
     "output_type": "execute_result"
    }
   ],
   "source": [
    "# outlier data points \n",
    "bank_stats.loc[(bank_stats['ttmEPS'] < 0) | (bank_stats['ttmEPS'] > 8)]"
   ]
  },
  {
   "cell_type": "code",
   "execution_count": 8,
   "metadata": {},
   "outputs": [
    {
     "data": {
      "text/plain": [
       "3.5542960000000012"
      ]
     },
     "execution_count": 8,
     "metadata": {},
     "output_type": "execute_result"
    }
   ],
   "source": [
    "# mean ttemp value across 51 banks\n",
    "bank_stats.ttmEPS.mean() # should we be including the banks we are testing in the population number? "
   ]
  },
  {
   "cell_type": "markdown",
   "metadata": {},
   "source": [
    "### 1. Question: Are the Earnings per share (EPS) significantly larger for the 6 outlier banks than the entire population"
   ]
  },
  {
   "cell_type": "markdown",
   "metadata": {},
   "source": [
    "$\\textbf{Hypothesis:}$\n",
    "\n",
    "$$H_{0}: \\mu = \\bar{X}$$\n",
    "$$H_{a}: \\mu \\neq \\bar{X}$$\n",
    "\n",
    "<font color='red'>Note: This may not be a meaningful test. Can you test one data point against an entire population?</font> "
   ]
  },
  {
   "cell_type": "markdown",
   "metadata": {},
   "source": [
    "1) Set up null and alternative hypotheses\n",
    "\n",
    "2) Choose a significance level\n",
    "\n",
    "3) Calculate the test statistic\n",
    "\n",
    "4) Determine the critical or p-value (find the rejection region)\n",
    "\n",
    "5) Compare t-value with critical t-value to accept or reject the Null hypothesis."
   ]
  },
  {
   "cell_type": "markdown",
   "metadata": {},
   "source": [
    "### 2. Question: Are Earnings per share (EPS) significantly different for high vs low beta banks?  "
   ]
  },
  {
   "cell_type": "code",
   "execution_count": 20,
   "metadata": {},
   "outputs": [],
   "source": [
    "# split the banks up into high and low beta value institutions\n",
    "banks_highb = bank_stats.loc[bank_stats['beta'] >= 1]\n",
    "banks_lowb = bank_stats.loc[bank_stats['beta'] < 1]"
   ]
  },
  {
   "cell_type": "markdown",
   "metadata": {},
   "source": [
    "* **The population mean ($\\mu$).** Given as 100 (from past data).\n",
    "* **The sample mean ($\\bar{x}$).** Calculate from the sample data\n",
    "* **The sample standard deviation ($s$).** Calculate from sample data\n",
    "* **Number of observations($n$).** 25 as given in the question. This can also be calculated from the sample data.\n",
    "* **Degrees of Freedom($df$).** Calculate from the sample as df = total no. of observations - 1"
   ]
  },
  {
   "cell_type": "code",
   "execution_count": 15,
   "metadata": {},
   "outputs": [
    {
     "name": "stdout",
     "output_type": "stream",
     "text": [
      "The sample contains 10 observations, having a mean of 4.28135 and a standard deviation (sigma) =  9.938023190001116 , with 9 degrees of freedom. The difference between sample and population means is: 0.7270539999999985\n"
     ]
    }
   ],
   "source": [
    "# High Beta Samples vs population\n",
    "# population mean \n",
    "mu = bank_stats.ttmEPS.mean()\n",
    "\n",
    "# Sample mean (x̄) using NumPy mean()\n",
    "x_bar = banks_highb.ttmEPS.mean()\n",
    "\n",
    "# Sample Stadrad Deviation (sigma) using Numpy\n",
    "sigma = np.std(banks_highb.ttmEPS, ddof=9) # how many degrees of freedom should I use? \n",
    "\n",
    "# Sample size (n)\n",
    "n = len(banks_highb.ttmEPS)\n",
    "\n",
    "# Degrees of Freedom\n",
    "df = n-1\n",
    "\n",
    "# Difference in sample mean \n",
    "diff = x_bar - mu\n",
    "\n",
    "# Print the findings\n",
    "print ('The sample contains', n, 'observations, having a mean of', x_bar, \"and a standard deviation (sigma) = \", sigma, \n",
    "       \", with\", df, 'degrees of freedom. The difference between sample and population means is:', diff)\n"
   ]
  },
  {
   "cell_type": "code",
   "execution_count": 16,
   "metadata": {},
   "outputs": [
    {
     "name": "stderr",
     "output_type": "stream",
     "text": [
      "/anaconda3/lib/python3.7/site-packages/scipy/stats/stats.py:1713: FutureWarning: Using a non-tuple sequence for multidimensional indexing is deprecated; use `arr[tuple(seq)]` instead of `arr[seq]`. In the future this will be interpreted as an array index, `arr[np.array(seq)]`, which will result either in an error or a different result.\n",
      "  return np.add.reduce(sorted[indexer] * weights, axis=axis) / sumval\n"
     ]
    },
    {
     "data": {
      "text/plain": [
       "<matplotlib.axes._subplots.AxesSubplot at 0x1a20bd5be0>"
      ]
     },
     "execution_count": 16,
     "metadata": {},
     "output_type": "execute_result"
    },
    {
     "data": {
      "image/png": "[encoded data removed]",
      "text/plain": [
       "<Figure size 864x720 with 1 Axes>"
      ]
     },
     "metadata": {},
     "output_type": "display_data"
    }
   ],
   "source": [
    "sns.set(color_codes=True)\n",
    "sns.set(rc={'figure.figsize':(12,10)})\n",
    "sns.distplot(banks_highb.ttmEPS)"
   ]
  },
  {
   "cell_type": "markdown",
   "metadata": {},
   "source": [
    "$H_{0}$: The null hypothesis is that there is no difference between the earnings per share:\n",
    "\n",
    "> $$H_{0}: \\mu = \\bar{X}_{high \\beta}$$"
   ]
  },
  {
   "cell_type": "markdown",
   "metadata": {},
   "source": [
    "$H_{1}$: The alternative hypothesis is that there is a change i.e. The high beta banks are differnt from the population.\n",
    "\n",
    "> $$H_{a}: \\mu \\neq \\bar{X}_{high \\beta}$$"
   ]
  },
  {
   "cell_type": "code",
   "execution_count": 19,
   "metadata": {},
   "outputs": [
    {
     "data": {
      "text/plain": [
       "0.2313484863115718"
      ]
     },
     "execution_count": 19,
     "metadata": {},
     "output_type": "execute_result"
    }
   ],
   "source": [
    "# Calculate the t-statistic\n",
    "t = (x_bar -  mu)/(sigma/np.sqrt(n))\n",
    "t"
   ]
  },
  {
   "cell_type": "code",
   "execution_count": 14,
   "metadata": {},
   "outputs": [
    {
     "name": "stdout",
     "output_type": "stream",
     "text": [
      "The sample contains 40 observations, having a mean of 3.3725325000000006 and a standard deviation (sigma) =  19.531801057960582 , with 39 degrees of freedom. The difference between sample and population means is: -0.18176350000000063\n"
     ]
    }
   ],
   "source": [
    "# Low Beta Samples vs Population \n",
    "# population mean \n",
    "mu = bank_stats.ttmEPS.mean()\n",
    "\n",
    "# Sample mean (x̄) using NumPy mean()\n",
    "x_bar = banks_lowb.ttmEPS.mean()\n",
    "\n",
    "# Sample Stadrad Deviation (sigma) using Numpy\n",
    "sigma = np.std(banks_lowb.ttmEPS, ddof=39) # how many degrees of freedom should I use? \n",
    "\n",
    "# Sample size (n)\n",
    "n = len(banks_lowb.ttmEPS)\n",
    "\n",
    "# Degrees of Freedom\n",
    "df = n-1\n",
    "\n",
    "# Difference in sample mean \n",
    "diff = x_bar - mu\n",
    "\n",
    "# Print the findings\n",
    "print ('The sample contains', n, 'observations, having a mean of', x_bar, \"and a standard deviation (sigma) = \", sigma, \n",
    "       \", with\", df, 'degrees of freedom. The difference between sample and population means is:', diff)"
   ]
  },
  {
   "cell_type": "code",
   "execution_count": 17,
   "metadata": {},
   "outputs": [
    {
     "data": {
      "text/plain": [
       "<matplotlib.axes._subplots.AxesSubplot at 0x1a207f9a58>"
      ]
     },
     "execution_count": 17,
     "metadata": {},
     "output_type": "execute_result"
    },
    {
     "data": {
      "image/png": "[encoded data removed]",
      "text/plain": [
       "<Figure size 864x720 with 1 Axes>"
      ]
     },
     "metadata": {},
     "output_type": "display_data"
    }
   ],
   "source": [
    "sns.set(color_codes=True)\n",
    "sns.set(rc={'figure.figsize':(12,10)})\n",
    "sns.distplot(banks_lowb.ttmEPS)"
   ]
  },
  {
   "cell_type": "markdown",
   "metadata": {},
   "source": [
    "1) Set up null and alternative hypotheses"
   ]
  },
  {
   "cell_type": "markdown",
   "metadata": {},
   "source": [
    "$$H_{0}: \\mu = \\bar{X}_{high \\beta}$$\n",
    "$$H_{a}: \\mu \\neq \\bar{X}_{high \\beta}$$\n",
    "\n",
    "$$and$$\n",
    "\n",
    "$$H_{0}: \\mu = \\bar{X}_{low \\beta}$$\n",
    "$$H_{a}: \\mu \\neq \\bar{X}_{low \\beta}$$"
   ]
  },
  {
   "cell_type": "markdown",
   "metadata": {},
   "source": [
    "2) Choose a significance level"
   ]
  },
  {
   "cell_type": "markdown",
   "metadata": {},
   "source": [
    "3) Calculate the test statistic"
   ]
  },
  {
   "cell_type": "markdown",
   "metadata": {},
   "source": [
    "4) Determine the critical or p-value (find the rejection region)"
   ]
  },
  {
   "cell_type": "markdown",
   "metadata": {},
   "source": [
    "5) Compare t-value with critical t-value to accept or reject the Null hypothesis."
   ]
  }
 ],
 "metadata": {
  "kernelspec": {
   "display_name": "Python 3",
   "language": "python",
   "name": "python3"
  },
  "language_info": {
   "codemirror_mode": {
    "name": "ipython",
    "version": 3
   },
   "file_extension": ".py",
   "mimetype": "text/x-python",
   "name": "python",
   "nbconvert_exporter": "python",
   "pygments_lexer": "ipython3",
   "version": "3.7.1"
  }
 },
 "nbformat": 4,
 "nbformat_minor": 2
}
