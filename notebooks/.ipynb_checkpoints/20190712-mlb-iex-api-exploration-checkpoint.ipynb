{
 "cells": [
  {
   "cell_type": "markdown",
   "metadata": {},
   "source": [
    "### API Exploration: IEX Cloud"
   ]
  },
  {
   "cell_type": "markdown",
   "metadata": {},
   "source": [
    "API Source: https://iexcloud.io/docs/api/#introduction"
   ]
  },
  {
   "cell_type": "code",
   "execution_count": 3,
   "metadata": {},
   "outputs": [],
   "source": [
    "import os\n",
    "import sys\n",
    "import pandas as pd\n",
    "\n",
    "from iexfinance.stocks import Stock \n",
    "from iexfinance.refdata import get_symbols\n",
    "\n",
    "conf_dir = os.path.join(os.getcwd(), '..', 'conf')\n",
    "sys.path.append(conf_dir)\n",
    "\n",
    "from local import Secrets\n",
    "# API Key \n",
    "key = Secrets.IEX_KEY"
   ]
  },
  {
   "cell_type": "code",
   "execution_count": null,
   "metadata": {},
   "outputs": [],
   "source": [
    "# List of banks\n",
    "public_banks_df = pd.read_csv('../references/banks_tickers.txt', sep='\\t',  skiprows = 1, names = ['Index', 'Name', 'Ticker'])\n",
    "public_banks_df.head()"
   ]
  },
  {
   "cell_type": "code",
   "execution_count": null,
   "metadata": {},
   "outputs": [],
   "source": [
    "key = Secrets.IEX_KEY"
   ]
  },
  {
   "cell_type": "code",
   "execution_count": null,
   "metadata": {},
   "outputs": [],
   "source": [
    "boh = Stock('BOH', output_format = 'pandas', token = key)\n",
    "boh.get_balance_sheet()"
   ]
  },
  {
   "cell_type": "code",
   "execution_count": null,
   "metadata": {},
   "outputs": [],
   "source": []
  }
 ],
 "metadata": {
  "kernelspec": {
   "display_name": "Python 3",
   "language": "python",
   "name": "python3"
  },
  "language_info": {
   "codemirror_mode": {
    "name": "ipython",
    "version": 3
   },
   "file_extension": ".py",
   "mimetype": "text/x-python",
   "name": "python",
   "nbconvert_exporter": "python",
   "pygments_lexer": "ipython3",
   "version": "3.7.1"
  }
 },
 "nbformat": 4,
 "nbformat_minor": 2
}
