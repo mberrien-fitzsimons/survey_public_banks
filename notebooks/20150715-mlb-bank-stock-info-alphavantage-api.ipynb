{
 "cells": [
  {
   "cell_type": "markdown",
   "metadata": {},
   "source": [
    "## Daily Adjusted Stock Prices: 52 Tradable Banks"
   ]
  },
  {
   "cell_type": "markdown",
   "metadata": {},
   "source": [
    "##### Source: https://www.alphavantage.co/"
   ]
  },
  {
   "cell_type": "code",
   "execution_count": 2,
   "metadata": {},
   "outputs": [],
   "source": [
    "import os\n",
    "import sys\n",
    "import pandas as pd\n",
    "\n",
    "from iexfinance.stocks import Stock \n",
    "from iexfinance.refdata import get_symbols\n",
    "\n",
    "conf_dir = os.path.join(os.getcwd(), '..', 'conf')\n",
    "sys.path.append(conf_dir)\n",
    "\n",
    "from local import Secrets"
   ]
  },
  {
   "cell_type": "code",
   "execution_count": 3,
   "metadata": {},
   "outputs": [
    {
     "data": {
      "text/html": [
       "<div>\n",
       "<style scoped>\n",
       "    .dataframe tbody tr th:only-of-type {\n",
       "        vertical-align: middle;\n",
       "    }\n",
       "\n",
       "    .dataframe tbody tr th {\n",
       "        vertical-align: top;\n",
       "    }\n",
       "\n",
       "    .dataframe thead th {\n",
       "        text-align: right;\n",
       "    }\n",
       "</style>\n",
       "<table border=\"1\" class=\"dataframe\">\n",
       "  <thead>\n",
       "    <tr style=\"text-align: right;\">\n",
       "      <th></th>\n",
       "      <th>Index</th>\n",
       "      <th>Name</th>\n",
       "      <th>Ticker</th>\n",
       "    </tr>\n",
       "  </thead>\n",
       "  <tbody>\n",
       "    <tr>\n",
       "      <th>0</th>\n",
       "      <td>1</td>\n",
       "      <td>Ally Financial Inc.</td>\n",
       "      <td>ALLY</td>\n",
       "    </tr>\n",
       "    <tr>\n",
       "      <th>1</th>\n",
       "      <td>2</td>\n",
       "      <td>Associated Banc-Corp</td>\n",
       "      <td>ASB</td>\n",
       "    </tr>\n",
       "    <tr>\n",
       "      <th>2</th>\n",
       "      <td>3</td>\n",
       "      <td>Axos Financial, Inc.</td>\n",
       "      <td>AX</td>\n",
       "    </tr>\n",
       "    <tr>\n",
       "      <th>3</th>\n",
       "      <td>4</td>\n",
       "      <td>Banc of California, Inc.</td>\n",
       "      <td>BANC</td>\n",
       "    </tr>\n",
       "    <tr>\n",
       "      <th>4</th>\n",
       "      <td>5</td>\n",
       "      <td>BancorpSouth Bank</td>\n",
       "      <td>BXS</td>\n",
       "    </tr>\n",
       "  </tbody>\n",
       "</table>\n",
       "</div>"
      ],
      "text/plain": [
       "   Index                      Name Ticker\n",
       "0      1       Ally Financial Inc.   ALLY\n",
       "1      2      Associated Banc-Corp    ASB\n",
       "2      3      Axos Financial, Inc.     AX\n",
       "3      4  Banc of California, Inc.   BANC\n",
       "4      5         BancorpSouth Bank    BXS"
      ]
     },
     "execution_count": 3,
     "metadata": {},
     "output_type": "execute_result"
    }
   ],
   "source": [
    "# List of banks\n",
    "public_banks_df = pd.read_csv('../references/banks_tickers.txt', sep='\\t',  skiprows = 1, names = ['Index', 'Name', 'Ticker'])\n",
    "public_banks_df.head()"
   ]
  },
  {
   "cell_type": "code",
   "execution_count": 4,
   "metadata": {},
   "outputs": [],
   "source": [
    "# create list of ticker abbreviations for tradable banks\n",
    "ticker_abbr = public_banks_df['Ticker']"
   ]
  },
  {
   "cell_type": "markdown",
   "metadata": {},
   "source": [
    "##### Pull stock info for 52 Tradable Banks"
   ]
  },
  {
   "cell_type": "code",
   "execution_count": 27,
   "metadata": {},
   "outputs": [],
   "source": [
    "# The below for loop pulls the first 5 banks from the ticker abbreviation list. \n",
    "# Note, the API will throw an error if you pull more than 5 stock sheets at a time\n",
    "ALPHA_VANTAGE_KEY = Secrets.ALPHA_VANTAGE_KEY\n",
    "\n",
    "function = 'TIME_SERIES_DAILY_ADJUSTED'\n",
    "datatype = 'csv'\n",
    "\n",
    "for bank in ticker_abbr[8:9]: \n",
    "    symbol = bank\n",
    "    url = f\"https://www.alphavantage.co/query?function={function}&symbol={symbol}&datatype={datatype}&apikey={ALPHA_VANTAGE_KEY}\"\n",
    "    exec('{} = pd.read_csv(url)'.format(bank)) # why is this not good python code? \n",
    "    "
   ]
  },
  {
   "cell_type": "code",
   "execution_count": 26,
   "metadata": {},
   "outputs": [
    {
     "data": {
      "text/plain": [
       "8    BKU\n",
       "Name: Ticker, dtype: object"
      ]
     },
     "execution_count": 26,
     "metadata": {},
     "output_type": "execute_result"
    }
   ],
   "source": [
    "ticker_abbr[8:9]"
   ]
  },
  {
   "cell_type": "code",
   "execution_count": 24,
   "metadata": {},
   "outputs": [],
   "source": [
    "ASB.to_csv('../data/01_raw/asb_stock.csv', index=False)"
   ]
  },
  {
   "cell_type": "markdown",
   "metadata": {},
   "source": [
    "##### Save bank stock data to CSVs in 01_raw data foldert"
   ]
  },
  {
   "cell_type": "code",
   "execution_count": 29,
   "metadata": {},
   "outputs": [],
   "source": [
    "BKU.to_csv('../data/01_raw/bku_stock.csv', index=False)"
   ]
  },
  {
   "cell_type": "code",
   "execution_count": 23,
   "metadata": {},
   "outputs": [
    {
     "ename": "NameError",
     "evalue": "name 'AX' is not defined",
     "output_type": "error",
     "traceback": [
      "\u001b[0;31m---------------------------------------------------------------------------\u001b[0m",
      "\u001b[0;31mNameError\u001b[0m                                 Traceback (most recent call last)",
      "\u001b[0;32m<ipython-input-23-3f9bec99dab3>\u001b[0m in \u001b[0;36m<module>\u001b[0;34m\u001b[0m\n\u001b[1;32m      2\u001b[0m \u001b[0mALLY\u001b[0m\u001b[0;34m.\u001b[0m\u001b[0mto_csv\u001b[0m\u001b[0;34m(\u001b[0m\u001b[0;34m'../data/01_raw/ally_stock.csv'\u001b[0m\u001b[0;34m,\u001b[0m \u001b[0mindex\u001b[0m\u001b[0;34m=\u001b[0m\u001b[0;32mFalse\u001b[0m\u001b[0;34m)\u001b[0m\u001b[0;34m\u001b[0m\u001b[0;34m\u001b[0m\u001b[0m\n\u001b[1;32m      3\u001b[0m \u001b[0mASB\u001b[0m\u001b[0;34m.\u001b[0m\u001b[0mto_csv\u001b[0m\u001b[0;34m(\u001b[0m\u001b[0;34m'../data/01_raw/asb_stock.csv'\u001b[0m\u001b[0;34m,\u001b[0m \u001b[0mindex\u001b[0m\u001b[0;34m=\u001b[0m\u001b[0;32mFalse\u001b[0m\u001b[0;34m)\u001b[0m\u001b[0;34m\u001b[0m\u001b[0;34m\u001b[0m\u001b[0m\n\u001b[0;32m----> 4\u001b[0;31m \u001b[0mAX\u001b[0m\u001b[0;34m.\u001b[0m\u001b[0mto_csv\u001b[0m\u001b[0;34m(\u001b[0m\u001b[0;34m'../data/01_raw/ax_stock.csv'\u001b[0m\u001b[0;34m,\u001b[0m \u001b[0mindex\u001b[0m\u001b[0;34m=\u001b[0m\u001b[0;32mFalse\u001b[0m\u001b[0;34m)\u001b[0m\u001b[0;34m\u001b[0m\u001b[0;34m\u001b[0m\u001b[0m\n\u001b[0m\u001b[1;32m      5\u001b[0m \u001b[0mBANC\u001b[0m\u001b[0;34m.\u001b[0m\u001b[0mto_csv\u001b[0m\u001b[0;34m(\u001b[0m\u001b[0;34m'../data/01_raw/banc_stock.csv'\u001b[0m\u001b[0;34m,\u001b[0m \u001b[0mindex\u001b[0m\u001b[0;34m=\u001b[0m\u001b[0;32mFalse\u001b[0m\u001b[0;34m)\u001b[0m\u001b[0;34m\u001b[0m\u001b[0;34m\u001b[0m\u001b[0m\n\u001b[1;32m      6\u001b[0m \u001b[0mBXS\u001b[0m\u001b[0;34m.\u001b[0m\u001b[0mto_csv\u001b[0m\u001b[0;34m(\u001b[0m\u001b[0;34m'../data/01_raw/bxs_stock.csv'\u001b[0m\u001b[0;34m,\u001b[0m \u001b[0mindex\u001b[0m\u001b[0;34m=\u001b[0m\u001b[0;32mFalse\u001b[0m\u001b[0;34m)\u001b[0m\u001b[0;34m\u001b[0m\u001b[0;34m\u001b[0m\u001b[0m\n",
      "\u001b[0;31mNameError\u001b[0m: name 'AX' is not defined"
     ]
    }
   ],
   "source": [
    "# save csv to file\n",
    "ALLY.to_csv('../data/01_raw/ally_stock.csv', index=False)\n",
    "ASB.to_csv('../data/01_raw/asb_stock.csv', index=False)\n",
    "AX.to_csv('../data/01_raw/ax_stock.csv', index=False)\n",
    "BANC.to_csv('../data/01_raw/banc_stock.csv', index=False)\n",
    "BXS.to_csv('../data/01_raw/bxs_stock.csv', index=False)\n",
    "BAC.to_csv('../data/01_raw/bac_stock.csv', index=False)\n",
    "BOH.to_csv('../data/01_raw/boh_stock.csv', index=False)\n",
    "BK.to_csv('../data/01_raw/bk_stock.csv', index=False)\n",
    "BBT.to_csv('../data/01_raw/bbt_stock.csv', index=False)\n",
    "BHLB.to_csv('../data/01_raw/bhlb_stock.csv', index=False)\n",
    "BY.to_csv('../data/01_raw/by_stock.csv', index=False)\n",
    "CADE.to_csv('../data/01_raw/cade_stock.csv', index=False)\n",
    "COF.to_csv('../data/01_raw/cof_stock.csv', index=False)\n",
    "CIT.to_csv('../data/01_raw/cit_stock.csv', index=False)\n",
    "C.to_csv('../data/01_raw/c_stock.csv', index=False)\n",
    "CFG.to_csv('../data/01_raw/cfg_stock.csv', index=False)\n",
    "CMA.to_csv('../data/01_raw/cma_stock.csv', index=False)\n",
    "CBU.to_csv('../data/01_raw/cbu_stock.csv', index=False)\n",
    "CPF.to_csv('../data/01_raw/cpf_stock.csv', index=False)\n",
    "CFR.to_csv('../data/01_raw/cfr_stock.csv', index=False)\n",
    "CUBI.to_csv('../data/01_raw/cubi_stock.csv', index=False)\n",
    "FNB.to_csv('../data/01_raw/fnb_stock.csv', index=False)\n",
    "FBK.to_csv('../data/01_raw/fbk_stock.csv', index=False)\n",
    "FCB.to_csv('../data/01_raw/fcb_stock.csv', index=False)\n",
    "FCF.to_csv('../data/01_raw/fcf_stock.csv', index=False)\n",
    "FHN.to_csv('../data/01_raw/fhn_stock.csv', index=False)\n",
    "FBC.to_csv('../data/01_raw/fbc_stock.csv', index=False)\n",
    "FSB.to_csv('../data/01_raw/fsb_stock.csv', index=False)\n",
    "GWB.to_csv('../data/01_raw/gwb_stock.csv', index=False)\n",
    "HTH.to_csv('../data/01_raw/hth_stock.csv', index=False)\n",
    "JPM.to_csv('../data/01_raw/jpm_stock.csv', index=False)\n",
    "KEY.to_csv('../data/01_raw/key_stock.csv', index=False)\n",
    "MTB.to_csv('../data/01_raw/mtb_stock.csv', index=False)\n",
    "MFCB.to_csv('../data/01_raw/mfcb_stock.csv', index=False)\n",
    "MSL.to_csv('../data/01_raw/msl_stock.csv', index=False)\n",
    "NBHC.to_csv('../data/01_raw/nbhc_stock.csv', index=False)\n",
    "NYCB.to_csv('../data/01_raw/nycb_stock.csv', index=False)\n",
    "PNC.to_csv('../data/01_raw/pnc_stock.csv', index=False)\n",
    "PB.to_csv('../data/01_raw/pb_stock.csv', index=False)\n",
    "PFS.to_csv('../data/01_raw/pfs_stock.csv', index=False)\n",
    "RF.to_csv('../data/01_raw/rf_stock.csv', index=False)\n",
    "STT.to_csv('../data/01_raw/stt_stock.csv', index=False)\n",
    "STL.to_csv('../data/01_raw/stl_stock.csv', index=False)\n",
    "STI.to_csv('../data/01_raw/sti_stock.csv', index=False)\n",
    "SNV.to_csv('../data/01_raw/snv_stock.csv', index=False)\n",
    "TCF.to_csv('../data/01_raw/tcf_stock.csv', index=False)\n",
    "USB.to_csv('../data/01_raw/usv_stock.csv', index=False)\n",
    "WBS.to_csv('../data/01_raw/wbs_stock.csv', index=False)\n",
    "WFC.to_csv('../data/01_raw/wfc_stock.csv', index=False)\n",
    "WAL.to_csv('../data/01_raw/wal_stock.csv', index=False)\n",
    "ZBK.to_csv('../data/01_raw/zbk_stock.csv', index=False)"
   ]
  },
  {
   "cell_type": "code",
   "execution_count": null,
   "metadata": {},
   "outputs": [],
   "source": []
  }
 ],
 "metadata": {
  "kernelspec": {
   "display_name": "Python 3",
   "language": "python",
   "name": "python3"
  },
  "language_info": {
   "codemirror_mode": {
    "name": "ipython",
    "version": 3
   },
   "file_extension": ".py",
   "mimetype": "text/x-python",
   "name": "python",
   "nbconvert_exporter": "python",
   "pygments_lexer": "ipython3",
   "version": "3.7.1"
  }
 },
 "nbformat": 4,
 "nbformat_minor": 2
}
