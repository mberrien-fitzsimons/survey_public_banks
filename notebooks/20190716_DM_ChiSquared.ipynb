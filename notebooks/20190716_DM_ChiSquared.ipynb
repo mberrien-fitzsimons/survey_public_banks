{
 "cells": [
  {
   "cell_type": "code",
   "execution_count": 1,
   "metadata": {},
   "outputs": [
    {
     "data": {
      "text/plain": [
       "'\\nThe Pearson’s chi-squared statistical hypothesis is an example of a test for \\nindependence between categorical variables.\\n'"
      ]
     },
     "execution_count": 1,
     "metadata": {},
     "output_type": "execute_result"
    }
   ],
   "source": [
    "\"\"\"\n",
    "The Pearson’s chi-squared statistical hypothesis is an example of a test for \n",
    "independence between categorical variables.\n",
    "\"\"\""
   ]
  },
  {
   "cell_type": "code",
   "execution_count": 2,
   "metadata": {},
   "outputs": [
    {
     "data": {
      "text/plain": [
       "'\\nThe preprocessing stage is pretty straightforward--the goal of this stage is to \"clean\" the data by preprocessing it. With things like text data, this may include things like tokenization. You\\'ll also identify and deal with issues like outliers and/or missing data in this stage.\\nIn practice, this stage often blurs with the Transformation stage.\\nThe output of this stage is preprocessed data that is more \"clean\" that it was at the start of this stage--although the dataset is not quite ready for modeling yet. Transformation:\\n'"
      ]
     },
     "execution_count": 2,
     "metadata": {},
     "output_type": "execute_result"
    }
   ],
   "source": [
    "\"\"\"\n",
    "The preprocessing stage is pretty straightforward--the goal of this stage is to \"clean\" the data by preprocessing it. With things like text data, this may include things like tokenization. You'll also identify and deal with issues like outliers and/or missing data in this stage.\n",
    "In practice, this stage often blurs with the Transformation stage.\n",
    "The output of this stage is preprocessed data that is more \"clean\" that it was at the start of this stage--although the dataset is not quite ready for modeling yet. Transformation:\n",
    "\"\"\""
   ]
  },
  {
   "cell_type": "code",
   "execution_count": null,
   "metadata": {},
   "outputs": [],
   "source": []
  }
 ],
 "metadata": {
  "kernelspec": {
   "display_name": "Python 3",
   "language": "python",
   "name": "python3"
  },
  "language_info": {
   "codemirror_mode": {
    "name": "ipython",
    "version": 3
   },
   "file_extension": ".py",
   "mimetype": "text/x-python",
   "name": "python",
   "nbconvert_exporter": "python",
   "pygments_lexer": "ipython3",
   "version": "3.7.3"
  }
 },
 "nbformat": 4,
 "nbformat_minor": 2
}
