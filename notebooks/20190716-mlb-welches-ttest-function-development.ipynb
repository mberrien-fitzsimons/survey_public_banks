{
 "cells": [
  {
   "cell_type": "code",
   "execution_count": 1,
   "metadata": {},
   "outputs": [],
   "source": [
    "# import packages \n",
    "import matplotlib.pyplot as plt\n",
    "import math\n",
    "import numpy as np\n",
    "import os\n",
    "import pandas as pd\n",
    "import requests\n",
    "import seaborn as sns\n",
    "import sys\n",
    "\n",
    "from scipy import stats \n",
    "\n",
    "%matplotlib inline"
   ]
  },
  {
   "cell_type": "code",
   "execution_count": null,
   "metadata": {},
   "outputs": [],
   "source": [
    "avg10 = key_stats_df.avg10VolRatio\n",
    "avg30 = key_stats_df.avg30VolRatio\n",
    "\n",
    "def welch_ttest(samp1, samp2):\n",
    "    num1 = samp1.mean() - samp2.mean()\n",
    "    denom1 = np.sqrt(samp1.var(ddof = 1)/len(samp1) + samp2.var(ddof =1)/len(samp2))\n",
    "    welch_t = np.abs(num1/denom1)\n",
    "    return welch_t\n",
    "\n",
    "print(\"Critical t: \", welch_t)"
   ]
  },
  {
   "cell_type": "code",
   "execution_count": null,
   "metadata": {},
   "outputs": [],
   "source": [
    "#Step 2: compute the effective degrees of freedom for 2 samples\n",
    "\n",
    "def effective_dof(samp1, samp2):\n",
    "    s1 = samp1.var(ddof=1)\n",
    "    s2 = samp2.var(ddof=1)\n",
    "    n1 = len(samp1)\n",
    "    n2 = len(samp2)\n",
    "    num2 = (s1/n1 + s2/n2)**2\n",
    "    denom2 = (s1/n1)**2/(n1-1)+(s2/n2)**2/(n2-1)\n",
    "    welch_dof = num2/denom2\n",
    "    return welch_dof"
   ]
  },
  {
   "cell_type": "code",
   "execution_count": null,
   "metadata": {},
   "outputs": [],
   "source": [
    "#Step 3: compute p-value for the to samples using cdf function from scipy library\n",
    "def compute_pval(welch_t, welch_dof):\n",
    "    p_value = 1-stats.t.cdf(welch_t, welch_df)\n",
    "    return p_value"
   ]
  },
  {
   "cell_type": "code",
   "execution_count": null,
   "metadata": {},
   "outputs": [],
   "source": [
    "#Welch's Test to compare avgVol/MarcetCap at two different times, using 10-day and 30-day avergages:\n",
    "import scipy.stats as stats\n",
    "import numpy as np\n",
    "#Step 1: compute  welch_t\n",
    "avg10 = key_stats_df.avg10VolRatio\n",
    "avg30 = key_stats_df.avg30VolRatio\n",
    "num1 = avg10.mean() - avg30.mean()\n",
    "denom1 = np.sqrt(avg10.var(ddof = 1)/len(avg10) + avg30.var(ddof =1)/len(avg30))\n",
    "welch_t = np.abs(num1/denom1)\n",
    "print(\"Critical t: \", welch_t)\n",
    "\n",
    "#Step 2: compute the effective degrees of freedom for 2 samples\n",
    "s1 = avg10.var(ddof=1)\n",
    "s2 = avg30.var(ddof=1)\n",
    "n1 = len(avg10)\n",
    "n2 = len(avg30)\n",
    "num2 = (s1/n1 + s2/n2)**2\n",
    "denom2 = (s1/n1)**2/(n1-1)+(s2/n2)**2/(n2-1)\n",
    "welch_df = num2/denom2\n",
    "print(\"Degrees of freedom: \",welch_df)\n",
    "\n",
    "#Step 3: compute p-value for the to samples using cdf function from scipy library\n",
    "p_value = 1-stats.t.cdf(welch_t, welch_df)\n",
    "print(\"P-value: \",p_value)\n",
    "\n",
    "#Check Misha's code for the chart\n",
    "sns.set(color_codes=True)\n",
    "sns.set(rc={'figure.figsize':(12,10)})\n",
    "sns.distplot(avg10) # Blue distribution\n",
    "sns.distplot(avg30) # Green distribution\n",
    "plt.show()\n"
   ]
  }
 ],
 "metadata": {
  "kernelspec": {
   "display_name": "Python 3",
   "language": "python",
   "name": "python3"
  },
  "language_info": {
   "codemirror_mode": {
    "name": "ipython",
    "version": 3
   },
   "file_extension": ".py",
   "mimetype": "text/x-python",
   "name": "python",
   "nbconvert_exporter": "python",
   "pygments_lexer": "ipython3",
   "version": "3.7.1"
  }
 },
 "nbformat": 4,
 "nbformat_minor": 2
}
