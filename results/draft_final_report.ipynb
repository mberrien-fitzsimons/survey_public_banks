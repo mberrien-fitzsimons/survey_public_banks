{
 "cells": [
  {
   "cell_type": "markdown",
   "metadata": {},
   "source": [
    "# DRAFT - Market Analysis: Snapshot of 50 Banks Trading on the Stock Market"
   ]
  },
  {
   "cell_type": "code",
   "execution_count": 1,
   "metadata": {},
   "outputs": [
    {
     "ename": "ModuleNotFoundError",
     "evalue": "No module named 'd00_utils'",
     "output_type": "error",
     "traceback": [
      "\u001b[0;31m---------------------------------------------------------------------------\u001b[0m",
      "\u001b[0;31mModuleNotFoundError\u001b[0m                       Traceback (most recent call last)",
      "\u001b[0;32m<ipython-input-1-ae0dde8874f9>\u001b[0m in \u001b[0;36m<module>\u001b[0;34m\u001b[0m\n\u001b[1;32m      1\u001b[0m \u001b[0;31m# import packages\u001b[0m\u001b[0;34m\u001b[0m\u001b[0;34m\u001b[0m\u001b[0;34m\u001b[0m\u001b[0m\n\u001b[1;32m      2\u001b[0m \u001b[0;32mfrom\u001b[0m \u001b[0mscipy\u001b[0m \u001b[0;32mimport\u001b[0m \u001b[0mstats\u001b[0m\u001b[0;34m\u001b[0m\u001b[0;34m\u001b[0m\u001b[0m\n\u001b[0;32m----> 3\u001b[0;31m \u001b[0;32mfrom\u001b[0m \u001b[0md00_utils\u001b[0m\u001b[0;34m.\u001b[0m\u001b[0mhypothesis_testing\u001b[0m \u001b[0;32mimport\u001b[0m \u001b[0mwelch_ttest\u001b[0m\u001b[0;34m,\u001b[0m \u001b[0meffective_dof\u001b[0m\u001b[0;34m,\u001b[0m \u001b[0mcompute_pval_singlesided\u001b[0m\u001b[0;34m\u001b[0m\u001b[0;34m\u001b[0m\u001b[0m\n\u001b[0m\u001b[1;32m      4\u001b[0m \u001b[0;32mimport\u001b[0m \u001b[0mmatplotlib\u001b[0m\u001b[0;34m.\u001b[0m\u001b[0mpyplot\u001b[0m \u001b[0;32mas\u001b[0m \u001b[0mplt\u001b[0m\u001b[0;34m\u001b[0m\u001b[0;34m\u001b[0m\u001b[0m\n\u001b[1;32m      5\u001b[0m \u001b[0;32mimport\u001b[0m \u001b[0mmath\u001b[0m\u001b[0;34m\u001b[0m\u001b[0;34m\u001b[0m\u001b[0m\n",
      "\u001b[0;31mModuleNotFoundError\u001b[0m: No module named 'd00_utils'"
     ]
    }
   ],
   "source": [
    "# import packages\n",
    "from scipy import stats\n",
    "from d00_utils.hypothesis_testing import welch_ttest, effective_dof, compute_pval_singlesided\n",
    "import matplotlib.pyplot as plt\n",
    "import math\n",
    "import numpy as np\n",
    "import os\n",
    "import pandas as pd\n",
    "import requests\n",
    "import seaborn as sns\n",
    "import sys\n",
    "\n",
    "src_dir = os.path.join(os.getcwd(), '..', 'src')\n",
    "sys.path.append(src_dir)\n",
    "\n",
    "# these functions can be found in the src folder under d00_utils in ttest.py\n",
    "\n",
    "%matplotlib inline"
   ]
  },
  {
   "cell_type": "code",
   "execution_count": null,
   "metadata": {},
   "outputs": [],
   "source": [
    "# import datasets\n",
    "# Dataframe of bank statistics \n",
    "conf_dir = os.path.join(os.getcwd(), '..', 'conf')\n",
    "sys.path.append(conf_dir)\n",
    "bank_stats = pd.read_csv('../data/01_raw/all_stocks_stats.csv', \n",
    "                         index_col = 'ticker')\n",
    "# Dataframe of public banks and ticker abbreviations\n",
    "public_banks = pd.read_csv('../references/banks_tickers.txt', \n",
    "                           sep='\\t',  \n",
    "                           skiprows = 1, \n",
    "                           names = ['Index', 'Name', 'Ticker'])"
   ]
  },
  {
   "cell_type": "markdown",
   "metadata": {},
   "source": [
    "## I. Introduction"
   ]
  },
  {
   "cell_type": "markdown",
   "metadata": {},
   "source": [
    "<font color='red'>FIX THIS! There has been renewed interest in banking stocks over the past few months. According to US News, experts agree that \"the sector, as a whole could have a strong year, with the threat of a new recession appearing distant for the time being.\" The banking sector can be difficult to understand.</font>"
   ]
  },
  {
   "cell_type": "markdown",
   "metadata": {},
   "source": [
    "## II. Datasets\n",
    "\n",
    "In this project, we work with two data sets: \n",
    "\n",
    "1. Bank Stats\n",
    "1. Individual bank stocks \n",
    "\n",
    "**Bank Stats:** \n",
    "The bank stats dataset shows a  financial snapshot of 51 banks trading on the stock exchange. The dataset includes market information such as average volume trading, market capitalization, earnings per share, and other stock related statistics. A data dictionary containing information on all 28 variables can be found in the reference folder. Below, we will highlight a number of key variables used in the project: \n",
    "\n",
    "1. avg10Volume - 10 Day average volume\n",
    "1. avg30Volume - 30 day average volume\n",
    "1. marketcap - market capitalization\n",
    "1. peRatio - price-earnings ratio\n",
    "1. ttmEPS - Trailing 12 month Earnings per share.\n",
    "\n",
    "**Bank Stock Price (Individual):**\n",
    "We also obtained a timeseries dataset of 100 days worth of stock market data for all 51 of the banks listed in the bank stats dataset."
   ]
  },
  {
   "cell_type": "markdown",
   "metadata": {},
   "source": [
    "## III. Key Project Metrics"
   ]
  },
  {
   "cell_type": "markdown",
   "metadata": {},
   "source": [
    "Source: https://www.investopedia.com/"
   ]
  },
  {
   "cell_type": "markdown",
   "metadata": {},
   "source": [
    "* **10/30 day average volume**: A stock's volume refers to the number of shares that are sold, or traded, over a certain period of time. "
   ]
  },
  {
   "cell_type": "markdown",
   "metadata": {},
   "source": [
    "* **Market capitalization (market cap)**: Market capitalization refers to the total dollar market value of a company's outstanding shares. It is calculated by multiplying a company's shares outstanding ( company's stock currently held by all its shareholders) by the current market price of one share. "
   ]
  },
  {
   "cell_type": "markdown",
   "metadata": {},
   "source": [
    "* **Price-earnings ratio (P/E ratio)**: The price-to-earnings ratio is the ratio for valuing a company that measures its current share price relative to its per-share earnings (EPS). It is a useful metric for evaluating the relative attractiveness of a company's stock price compared to the firm's current earnings"
   ]
  },
  {
   "cell_type": "markdown",
   "metadata": {},
   "source": [
    "* **Earnings Per Share (EPS)**: Earnings per share (EPS) is calculated as a company's profit divided by the outstanding shares of its common stock. The resulting number serves as an indicator of a company's profitability. "
   ]
  },
  {
   "cell_type": "markdown",
   "metadata": {},
   "source": [
    "* **Trailing 12 months (TTM)**: TTM is the term for the data from the past 12 consecutive months used for reporting financial figures. A company's trailing 12 months represent its financial performance for a 12-month period; it does not typically represent a fiscal-year ending period."
   ]
  },
  {
   "cell_type": "markdown",
   "metadata": {},
   "source": [
    "## III. Questions & Analysis"
   ]
  },
  {
   "cell_type": "markdown",
   "metadata": {},
   "source": [
    "### 1. Market Cap Size & P/E Ratio\n",
    "\n",
    ">**Question**: Is there a significant difference in P/E Ratio between banks with large and small market capitalization?"
   ]
  },
  {
   "cell_type": "markdown",
   "metadata": {},
   "source": [
    "We first filter the dataset by market cap size. "
   ]
  },
  {
   "cell_type": "code",
   "execution_count": null,
   "metadata": {},
   "outputs": [],
   "source": [
    "# drop na value for marketcap\n",
    "bank_stats.dropna(subset=['marketcap'], \n",
    "                  inplace=True)\n",
    "# sort value according to the market cap \n",
    "bank_stats.sort_values(by=['marketcap'], \n",
    "                       inplace=True)\n",
    "# reset index\n",
    "bank_stats.reset_index(inplace=True)\n",
    "# pe ratio mean\n",
    "bank_stats.peRatio.mean()"
   ]
  },
  {
   "cell_type": "markdown",
   "metadata": {},
   "source": [
    "The P/E Ratio mean is around 11.6 with datapoints in both the upper and lower tails of the distribution (as seen below)."
   ]
  },
  {
   "cell_type": "code",
   "execution_count": null,
   "metadata": {},
   "outputs": [],
   "source": [
    "# plot bank pe distribution \n",
    "sns.set_context('poster')\n",
    "sns.set(color_codes=True)\n",
    "sns.set(rc={'figure.figsize':(12,10)})\n",
    "sns.distplot(bank_stats.peRatio) # Blue distribution\n",
    "plt.title('Distribution of P/E Ratio From Sample of 50 Tradable Banks')\n",
    "plt.xlabel('P/E Ratio')\n",
    "plt.show()\n",
    "# find exact mean of p/e ratio for all 50 banks\n",
    "bank_stats.peRatio.mean()"
   ]
  },
  {
   "cell_type": "markdown",
   "metadata": {},
   "source": [
    "Because we are interested in seeing if there is a difference in the p/e ratio for banks with both large and small market cap, we ordered the data by market cap size and split the dataset in half. Our new datasets are small_cap (25 of the banks with lowest market cap) and big_cap (25 of the banks with the highest market cap). "
   ]
  },
  {
   "cell_type": "code",
   "execution_count": null,
   "metadata": {},
   "outputs": [],
   "source": [
    "# split the dataset of 50 banks into large and small captilized banks\n",
    "small_cap = bank_stats.iloc[0:25, :]\n",
    "big_cap = bank_stats.iloc[25:, :]"
   ]
  },
  {
   "cell_type": "code",
   "execution_count": null,
   "metadata": {
    "scrolled": false
   },
   "outputs": [],
   "source": [
    "# PE distributions for small and big market cap banks\n",
    "sns.set(color_codes=True)\n",
    "sns.set(rc={'figure.figsize':(12,10)})\n",
    "sns.distplot(small_cap.peRatio) # Blue distribution\n",
    "sns.distplot(big_cap.peRatio) # Orange distribution\n",
    "plt.title('Distribution of P/E Ratio For Large and Small Market Cap Banks')\n",
    "plt.xlabel('P/E Ratio')\n",
    "plt.show()\n",
    "print('small_cap pe ratio mean:', \n",
    "      small_cap.peRatio.mean())\n",
    "print('big_cap pe ratio mean:', \n",
    "      big_cap.peRatio.mean())"
   ]
  },
  {
   "cell_type": "markdown",
   "metadata": {},
   "source": [
    "From the distribution above, we see that banks with small market cap have higher p/e ratio variance. From the above plot, we also see that the p/e ratio mean of small market cap banks is slightly higher than the ratio for big market cap banks (12.24 and 10.99 respectively). This gives us cause to test if the mean p/e ratio for small market cap banks is higher than for large market cap banks. "
   ]
  },
  {
   "cell_type": "markdown",
   "metadata": {},
   "source": [
    "##### i. Null & alternative hypothesis\n",
    "\n",
    "$H_{0}$: The mean difference between small market cap and big market cap is zero. \n",
    "> $$H_{0}: \\bar{X}_{high-marketcap} = \\bar{X}_{low-marketcap}$$\n",
    "\n",
    "$H_{a}$: The mean difference for our p/e ratio for small maket cap and big market cap banks is different than zero. \n",
    "> $$H_{a}: \\bar{X}_{high-marketcap} \\neq \\bar{X}_{low-marketcap}$$"
   ]
  },
  {
   "cell_type": "markdown",
   "metadata": {},
   "source": [
    "##### ii. Choose significance Level\n",
    "\n",
    "We are performing a 2-tailed t-test. \n",
    "\n",
    ">Significance level: $\\alpha$ = 0.05"
   ]
  },
  {
   "cell_type": "markdown",
   "metadata": {},
   "source": [
    "##### iii. Compute Welche's T"
   ]
  },
  {
   "cell_type": "code",
   "execution_count": null,
   "metadata": {},
   "outputs": [],
   "source": [
    "# Step 1: compute  welch_t\n",
    "big_cap_pe = big_cap.peRatio\n",
    "small_cap_pe = small_cap.peRatio\n",
    "welch_t = welch_ttest(big_cap_pe,\n",
    "                      small_cap_pe)\n",
    "print('Critical t-statistic', welch_t)"
   ]
  },
  {
   "cell_type": "markdown",
   "metadata": {},
   "source": [
    "##### iv. Compute degrees of freedom"
   ]
  },
  {
   "cell_type": "code",
   "execution_count": null,
   "metadata": {},
   "outputs": [],
   "source": [
    "#Step 2: compute the effective degrees of freedom for 2 samples\n",
    "dof = len(big_cap_pe) - 1\n",
    "print('Degrees of Freedom:', dof)"
   ]
  },
  {
   "cell_type": "markdown",
   "metadata": {},
   "source": [
    "##### v. Compute the p-value"
   ]
  },
  {
   "cell_type": "code",
   "execution_count": null,
   "metadata": {},
   "outputs": [],
   "source": [
    "#Step 3: compute p-value for the to samples using cdf function from scipy library\n",
    "pval_2sided = compute_pval_singlesided(welch_t, dof)*2\n",
    "print('P-Value Two-sided:', pval_2sided)"
   ]
  },
  {
   "cell_type": "markdown",
   "metadata": {},
   "source": [
    "<font color='red'>Fail to reject the null</font>"
   ]
  },
  {
   "cell_type": "markdown",
   "metadata": {},
   "source": [
    "### 2. Market Cap Size & EPS\n",
    "\n",
    "\n",
    ">**Question**: Is there a significant difference in EPS between banks with large and small market capitalization?"
   ]
  },
  {
   "cell_type": "code",
   "execution_count": null,
   "metadata": {},
   "outputs": [],
   "source": [
    "sns.set_context('talk')\n",
    "sns.set(color_codes=True)\n",
    "sns.set(rc={'figure.figsize':(12,10)})\n",
    "sns.distplot(bank_stats.ttmEPS) # Blue distribution\n",
    "plt.title('Distribution of EPS From Sample of 50 Tradable Banks')\n",
    "plt.xlabel('P/E Ratio')\n",
    "plt.show()"
   ]
  },
  {
   "cell_type": "code",
   "execution_count": null,
   "metadata": {},
   "outputs": [],
   "source": [
    "sns.set(color_codes=True)\n",
    "sns.set(rc={'figure.figsize':(12,10)})\n",
    "sns.distplot(small_cap.ttmEPS) # Blue distribution\n",
    "sns.distplot(big_cap.ttmEPS) # Orange distribution\n",
    "plt.title('Distribution of EPS For Large and Small Market Cap Banks')\n",
    "plt.xlabel('P/E Ratio')\n",
    "plt.show()"
   ]
  },
  {
   "cell_type": "markdown",
   "metadata": {},
   "source": [
    "From the distribution, we see that EPS of banks with larger market capitilization is higher than for those banks with lower market capitilization. This could be interesting to look into. "
   ]
  },
  {
   "cell_type": "markdown",
   "metadata": {},
   "source": [
    "### IV. Analysis (Hypothesis Testing) "
   ]
  },
  {
   "cell_type": "markdown",
   "metadata": {},
   "source": [
    "##### i. Null & alternative hypothesis"
   ]
  },
  {
   "cell_type": "markdown",
   "metadata": {},
   "source": [
    "$H_{0}$: The mean difference for EPS between small market cap and big market cap is zero. \n",
    "> $$H_{0}: \\bar{X}_{high-marketcap} = \\bar{X}_{low-marketcap}$$\n",
    "\n",
    "$H_{a}$: The mean difference for EPS for small maket cap and big market cap banks is different than zero. \n",
    "> $$H_{a}: \\bar{X}_{high-marketcap} \\neq \\bar{X}_{low-marketcap}$$"
   ]
  },
  {
   "cell_type": "markdown",
   "metadata": {},
   "source": [
    "##### ii. Choose significance Level"
   ]
  },
  {
   "cell_type": "markdown",
   "metadata": {},
   "source": [
    "We are performing a 2-tailed t-test. \n",
    "\n",
    ">**Significance level: $\\alpha$ = 0.05**"
   ]
  },
  {
   "cell_type": "markdown",
   "metadata": {},
   "source": [
    "##### iii. Compute Welche's T"
   ]
  },
  {
   "cell_type": "code",
   "execution_count": null,
   "metadata": {},
   "outputs": [],
   "source": [
    "#Step 1: compute  welch_t\n",
    "big_cap_eps = big_cap.ttmEPS\n",
    "small_cap_eps = small_cap.ttmEPS\n",
    "welch_t = welch_ttest(big_cap_eps, small_cap_eps)\n",
    "print('Critical t-statistic', welch_t)"
   ]
  },
  {
   "cell_type": "markdown",
   "metadata": {},
   "source": [
    "##### iv. Compute degrees of freedom"
   ]
  },
  {
   "cell_type": "code",
   "execution_count": null,
   "metadata": {},
   "outputs": [],
   "source": [
    "#Step 2: compute the effective degrees of freedom for 2 samples\n",
    "dof = len(big_cap_eps) - 1\n",
    "print('Degrees of Freedom:', dof)"
   ]
  },
  {
   "cell_type": "markdown",
   "metadata": {},
   "source": [
    "##### v. Compute the p-value"
   ]
  },
  {
   "cell_type": "code",
   "execution_count": null,
   "metadata": {},
   "outputs": [],
   "source": [
    "#Step 3: compute p-value for the to samples using cdf function from scipy library\n",
    "pval_2sided = compute_pval_singlesided(welch_t, dof)*2\n",
    "print('P-Value Two-sided:', pval_2sided)"
   ]
  },
  {
   "cell_type": "markdown",
   "metadata": {},
   "source": [
    "<font color='red'>Reject the null hypothesis.</font>"
   ]
  },
  {
   "cell_type": "markdown",
   "metadata": {},
   "source": [
    "--------------------------"
   ]
  },
  {
   "cell_type": "markdown",
   "metadata": {},
   "source": [
    "### V. Recommendations/ Implementation/ Strategy "
   ]
  },
  {
   "cell_type": "markdown",
   "metadata": {},
   "source": [
    "<font color='red'>first, need to start with what your questions are. Need to fill this in with findings. One part of recommendations could be future questions to ask. The other part is, with teh questions that we did there is other analysis that could be done. Give an overview of what small cap large cap means, give an overcci\n",
    "\n",
    "1. introduce data\n",
    "1. introduce the metrics that we are using \n",
    "1. introduce questions (hypothesis)\n",
    "1. introduce analysis \n",
    "\n",
    "\n",
    "(can split them up one by one. Don't have to do these here)\n",
    "\n",
    "Presentation is at 2:30 tomorrow. Will send out randomly assigned presentation orders 15 minutes early. Then will have the science fair at 4pm afterwards. Will not be looking at notebooks until Friday. \n",
    "\n",
    "Readme should not contain content. Could tell you where exactly everything is. Helper functions, data, etc are here here here. It tells you what the project is and meta data about the project. </font>"
   ]
  },
  {
   "cell_type": "markdown",
   "metadata": {},
   "source": [
    "<font color='red'>Make sure that the histograms that you are using. its the width of the bin not the number of bins. Got hist keywords. Need to find examples of defining bin size of the thing and set to be equal. </font>"
   ]
  },
  {
   "cell_type": "markdown",
   "metadata": {},
   "source": [
    "<font color='red'>Independent t-test</font>"
   ]
  },
  {
   "cell_type": "markdown",
   "metadata": {},
   "source": [
    "# QUESTIONS FOR ANDY: \n",
    "\n",
    "1. Should we write our own functions for the hypothesis tests? \n",
    "1. Do we need to come up with a recommendation based on a hypothesis\n",
    "1. I would like to write a few classes for this project. What could that look like? \n",
    "1. I have heard you say a number of times that jupyter notebooks are not for reporting. If not in jupyter notebooks how do people usually report findings? \n",
    "1. is it reasonable to look at volume two weeks ago and a month ago (can welch test be used for)? "
   ]
  },
  {
   "cell_type": "code",
   "execution_count": null,
   "metadata": {},
   "outputs": [],
   "source": []
  }
 ],
 "metadata": {
  "kernelspec": {
   "display_name": "Python 3",
   "language": "python",
   "name": "python3"
  },
  "language_info": {
   "codemirror_mode": {
    "name": "ipython",
    "version": 3
   },
   "file_extension": ".py",
   "mimetype": "text/x-python",
   "name": "python",
   "nbconvert_exporter": "python",
   "pygments_lexer": "ipython3",
   "version": "3.7.1"
  }
 },
 "nbformat": 4,
 "nbformat_minor": 2
}
